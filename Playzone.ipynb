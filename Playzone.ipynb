{
 "cells": [
  {
   "cell_type": "code",
   "execution_count": 1,
   "id": "c9a89802ad54b69",
   "metadata": {
    "ExecuteTime": {
     "end_time": "2024-07-10T14:01:23.718946Z",
     "start_time": "2024-07-10T14:01:23.466796Z"
    },
    "collapsed": false
   },
   "outputs": [],
   "source": [
    "import GEOparse\n",
    "import logging\n",
    "\n",
    "import pandas as pd"
   ]
  },
  {
   "cell_type": "code",
   "execution_count": 2,
   "id": "8cee89429e698189",
   "metadata": {
    "ExecuteTime": {
     "end_time": "2024-07-10T14:01:23.719904Z",
     "start_time": "2024-07-10T14:01:23.713783Z"
    },
    "collapsed": false
   },
   "outputs": [],
   "source": [
    "N_TRIALS = 10\n",
    "SAMPLING_SIZE = 150\n",
    "\n",
    "from random import choice, sample\n",
    "from prompts.aspects import annotation_aspects_list"
   ]
  },
  {
   "cell_type": "code",
   "execution_count": 3,
   "id": "3a212610eee2dcd8",
   "metadata": {
    "ExecuteTime": {
     "end_time": "2024-07-10T14:01:23.722757Z",
     "start_time": "2024-07-10T14:01:23.717107Z"
    },
    "collapsed": false
   },
   "outputs": [
    {
     "data": {
      "text/plain": [
       "dict_keys(['Experimental Design and Sample Collection', 'Data Processing and Analysis Methods', 'Quality Control and Filtering', 'Sequencing and Array Platform Details', 'Technical Replicates and Biological Replicates', 'Control and Reference Samples'])"
      ]
     },
     "execution_count": 3,
     "metadata": {},
     "output_type": "execute_result"
    }
   ],
   "source": [
    "annotation_aspects_list.keys()"
   ]
  },
  {
   "cell_type": "code",
   "execution_count": 4,
   "id": "61c2eb031ee5d909",
   "metadata": {
    "ExecuteTime": {
     "end_time": "2024-07-10T14:01:23.726526Z",
     "start_time": "2024-07-10T14:01:23.720123Z"
    },
    "collapsed": false
   },
   "outputs": [],
   "source": [
    "aspect = 'Control and Reference Samples'\n",
    "aspect_details = annotation_aspects_list[aspect]\n",
    "irrelevant_aspects = [x for x in annotation_aspects_list.keys() if x != aspect]"
   ]
  },
  {
   "cell_type": "code",
   "execution_count": 5,
   "id": "97337ea2b7306681",
   "metadata": {
    "ExecuteTime": {
     "end_time": "2024-07-10T14:01:23.750407Z",
     "start_time": "2024-07-10T14:01:23.721854Z"
    },
    "collapsed": false
   },
   "outputs": [],
   "source": [
    "logging.getLogger('GEOparse').setLevel(logging.WARNING)"
   ]
  },
  {
   "cell_type": "code",
   "execution_count": 6,
   "id": "b465e4409a9b4f9d",
   "metadata": {
    "ExecuteTime": {
     "end_time": "2024-07-10T14:01:23.801041Z",
     "start_time": "2024-07-10T14:01:23.723795Z"
    },
    "collapsed": false
   },
   "outputs": [],
   "source": [
    "datasets_df = pd.read_excel('Magalhaes_datasets.xlsx', header=1)"
   ]
  },
  {
   "cell_type": "code",
   "execution_count": 7,
   "id": "bde438212f28708a",
   "metadata": {
    "ExecuteTime": {
     "end_time": "2024-07-10T14:01:23.801988Z",
     "start_time": "2024-07-10T14:01:23.794869Z"
    },
    "collapsed": false
   },
   "outputs": [],
   "source": [
    "gse_id_list = datasets_df.query(\"Technology=='Microarray' & Study !='AgeMap'\").Study.tolist()"
   ]
  },
  {
   "cell_type": "code",
   "execution_count": 8,
   "id": "f209c3efc03bd075",
   "metadata": {
    "ExecuteTime": {
     "end_time": "2024-07-10T14:03:40.963973Z",
     "start_time": "2024-07-10T14:01:23.797008Z"
    },
    "collapsed": false
   },
   "outputs": [
    {
     "name": "stderr",
     "output_type": "stream",
     "text": [
      "/Users/a79529/PycharmProjects/genexrp_dataset_merge/.venv/lib/python3.11/site-packages/GEOparse/GEOparse.py:401: DtypeWarning: Columns (2) have mixed types. Specify dtype option on import or set low_memory=False.\n",
      "  return read_csv(StringIO(data), index_col=None, sep=\"\\t\")\n",
      "/Users/a79529/PycharmProjects/genexrp_dataset_merge/.venv/lib/python3.11/site-packages/GEOparse/GEOparse.py:401: DtypeWarning: Columns (2) have mixed types. Specify dtype option on import or set low_memory=False.\n",
      "  return read_csv(StringIO(data), index_col=None, sep=\"\\t\")\n",
      "/Users/a79529/PycharmProjects/genexrp_dataset_merge/.venv/lib/python3.11/site-packages/GEOparse/GEOparse.py:401: DtypeWarning: Columns (2) have mixed types. Specify dtype option on import or set low_memory=False.\n",
      "  return read_csv(StringIO(data), index_col=None, sep=\"\\t\")\n",
      "/Users/a79529/PycharmProjects/genexrp_dataset_merge/.venv/lib/python3.11/site-packages/GEOparse/GEOparse.py:401: DtypeWarning: Columns (2) have mixed types. Specify dtype option on import or set low_memory=False.\n",
      "  return read_csv(StringIO(data), index_col=None, sep=\"\\t\")\n",
      "/Users/a79529/PycharmProjects/genexrp_dataset_merge/.venv/lib/python3.11/site-packages/GEOparse/GEOparse.py:401: DtypeWarning: Columns (2) have mixed types. Specify dtype option on import or set low_memory=False.\n",
      "  return read_csv(StringIO(data), index_col=None, sep=\"\\t\")\n",
      "/Users/a79529/PycharmProjects/genexrp_dataset_merge/.venv/lib/python3.11/site-packages/GEOparse/GEOparse.py:401: DtypeWarning: Columns (2) have mixed types. Specify dtype option on import or set low_memory=False.\n",
      "  return read_csv(StringIO(data), index_col=None, sep=\"\\t\")\n",
      "/Users/a79529/PycharmProjects/genexrp_dataset_merge/.venv/lib/python3.11/site-packages/GEOparse/GEOparse.py:401: DtypeWarning: Columns (2) have mixed types. Specify dtype option on import or set low_memory=False.\n",
      "  return read_csv(StringIO(data), index_col=None, sep=\"\\t\")\n",
      "/Users/a79529/PycharmProjects/genexrp_dataset_merge/.venv/lib/python3.11/site-packages/GEOparse/GEOparse.py:401: DtypeWarning: Columns (2) have mixed types. Specify dtype option on import or set low_memory=False.\n",
      "  return read_csv(StringIO(data), index_col=None, sep=\"\\t\")\n",
      "/Users/a79529/PycharmProjects/genexrp_dataset_merge/.venv/lib/python3.11/site-packages/GEOparse/GEOparse.py:401: DtypeWarning: Columns (2) have mixed types. Specify dtype option on import or set low_memory=False.\n",
      "  return read_csv(StringIO(data), index_col=None, sep=\"\\t\")\n",
      "/Users/a79529/PycharmProjects/genexrp_dataset_merge/.venv/lib/python3.11/site-packages/GEOparse/GEOparse.py:401: DtypeWarning: Columns (2) have mixed types. Specify dtype option on import or set low_memory=False.\n",
      "  return read_csv(StringIO(data), index_col=None, sep=\"\\t\")\n"
     ]
    }
   ],
   "source": [
    "gse_list = []\n",
    "for gse_id in gse_id_list:\n",
    "    try:\n",
    "        gse_list.append(GEOparse.get_GEO(geo=gse_id, destdir=\"./data/\"))\n",
    "    except Exception as e:\n",
    "        print(e)"
   ]
  },
  {
   "cell_type": "markdown",
   "id": "29e6c6b2722c7834",
   "metadata": {
    "collapsed": false
   },
   "source": [
    "### Manual digging in gse and gsm"
   ]
  },
  {
   "cell_type": "code",
   "execution_count": 9,
   "id": "initial_id",
   "metadata": {
    "ExecuteTime": {
     "end_time": "2024-07-10T14:03:43.529929Z",
     "start_time": "2024-07-10T14:03:40.964192Z"
    },
    "collapsed": true
   },
   "outputs": [
    {
     "name": "stderr",
     "output_type": "stream",
     "text": [
      "/Users/a79529/PycharmProjects/genexrp_dataset_merge/.venv/lib/python3.11/site-packages/GEOparse/GEOparse.py:401: DtypeWarning: Columns (2) have mixed types. Specify dtype option on import or set low_memory=False.\n",
      "  return read_csv(StringIO(data), index_col=None, sep=\"\\t\")\n",
      "/Users/a79529/PycharmProjects/genexrp_dataset_merge/.venv/lib/python3.11/site-packages/GEOparse/GEOparse.py:401: DtypeWarning: Columns (2) have mixed types. Specify dtype option on import or set low_memory=False.\n",
      "  return read_csv(StringIO(data), index_col=None, sep=\"\\t\")\n"
     ]
    }
   ],
   "source": [
    "\n",
    "# set GSE id\n",
    "gse_id_first = \"GSE12480\"\n",
    "gse_id_second = \"GSE32719\"\n",
    "\n",
    "# Download the data\n",
    "gse_first = GEOparse.get_GEO(geo=gse_id_first, destdir=\"./\")\n",
    "gse_second = GEOparse.get_GEO(geo=gse_id_second, destdir=\"./\")"
   ]
  },
  {
   "cell_type": "code",
   "execution_count": 10,
   "id": "9dfd98c0b29bded2",
   "metadata": {
    "ExecuteTime": {
     "end_time": "2024-07-10T14:03:43.537127Z",
     "start_time": "2024-07-10T14:03:43.531305Z"
    },
    "collapsed": false
   },
   "outputs": [
    {
     "data": {
      "text/plain": [
       "['Cardiac ventricle total RNA from 10 young (4-6 month) and 10 young (25-28 month) mice were compared.']"
      ]
     },
     "execution_count": 10,
     "metadata": {},
     "output_type": "execute_result"
    }
   ],
   "source": [
    "gse_first.metadata['overall_design']"
   ]
  },
  {
   "cell_type": "code",
   "execution_count": 11,
   "id": "672fea59ee7af07e",
   "metadata": {
    "ExecuteTime": {
     "end_time": "2024-07-10T14:03:43.542567Z",
     "start_time": "2024-07-10T14:03:43.533463Z"
    },
    "collapsed": false
   },
   "outputs": [
    {
     "data": {
      "text/plain": [
       "['In order to elucidate the properties of an aged human hematopoietic system that may predispose to age-associated hematopoietic dysfunction, we evaluated HSC and other hematopoietic progenitor populations from healthy, hematologically normal young and elderly human bone marrow samples. We found that aged human HSC increase in frequency, are less quiescent, and exhibit myeloid-biased differentiation potential compared to young HSC.']"
      ]
     },
     "execution_count": 11,
     "metadata": {},
     "output_type": "execute_result"
    }
   ],
   "source": [
    "gse_second.metadata['overall_design']"
   ]
  },
  {
   "cell_type": "code",
   "execution_count": 12,
   "id": "d6095f6bf1c91c96",
   "metadata": {
    "ExecuteTime": {
     "end_time": "2024-07-10T14:03:43.548129Z",
     "start_time": "2024-07-10T14:03:43.535233Z"
    },
    "collapsed": false
   },
   "outputs": [
    {
     "data": {
      "text/plain": [
       "['Expression profiling by array']"
      ]
     },
     "execution_count": 12,
     "metadata": {},
     "output_type": "execute_result"
    }
   ],
   "source": [
    "gse_first.metadata['type']"
   ]
  },
  {
   "cell_type": "code",
   "execution_count": 13,
   "id": "f1c82e63f02f4642",
   "metadata": {
    "ExecuteTime": {
     "end_time": "2024-07-10T14:03:43.553360Z",
     "start_time": "2024-07-10T14:03:43.537615Z"
    },
    "collapsed": false
   },
   "outputs": [
    {
     "data": {
      "text/plain": [
       "['Expression profiling by array']"
      ]
     },
     "execution_count": 13,
     "metadata": {},
     "output_type": "execute_result"
    }
   ],
   "source": [
    "gse_second.metadata['type']"
   ]
  },
  {
   "cell_type": "code",
   "execution_count": 14,
   "id": "56ba41769ab6d60c",
   "metadata": {
    "ExecuteTime": {
     "end_time": "2024-07-10T14:03:43.559216Z",
     "start_time": "2024-07-10T14:03:43.539651Z"
    },
    "collapsed": false
   },
   "outputs": [
    {
     "data": {
      "text/plain": [
       "['In the human hematopoietic system, aging is associated with decreased bone marrow cellularity, decreased adaptive immune system function, and increased incidence of anemia and other hematological disorders and malignancies. Recent studies in mice suggest that changes within the hematopoietic stem cell (HSC) population during aging contribute significantly to the manifestation of these age-associated hematopoietic pathologies. While the mouse HSC population has been shown to change both quantitatively and functionally with age, changes in the human HSC and progenitor cell populations during aging have not yet been characterized.',\n",
       " 'Gene expression profiling revealed that aged human HSC transcriptionally up-regulate genes associated with cell cycle, myeloid lineage specification, and myeloid malignancies. These age-associated alterations in the frequency, function, and gene expression profile of human HSC are significantly similar to those changes observed in mouse HSC, suggesting that hematopoietic aging is an evolutionarily conserved process.']"
      ]
     },
     "execution_count": 14,
     "metadata": {},
     "output_type": "execute_result"
    }
   ],
   "source": [
    "gse_second.metadata['summary']"
   ]
  },
  {
   "cell_type": "code",
   "execution_count": 15,
   "id": "67e08d99e3cd1870",
   "metadata": {
    "ExecuteTime": {
     "end_time": "2024-07-10T14:03:43.565213Z",
     "start_time": "2024-07-10T14:03:43.541567Z"
    },
    "collapsed": false
   },
   "outputs": [
    {
     "data": {
      "text/plain": [
       "['Aging is the progressive decline in organismal function that leads to an increased risk of multiple diseases and mortality. The molecular basis of this decline is unknown. Using quantitative PCR for mitochondrial mRNA from multiple tissues from the same animals, we found that the rate of change in mouse mitochondrial expression is tissue-specific, with cardiac expression declining early (8-10 months), adipose expression declining late (25-30 months), and no change in kidney or skin. In cardiac tissue, mitochondria-derived mRNA levels declined more slowly than nuclear encoded mRNAs, suggesting a potential dysregulation. These changes were independent of alteration in mitochondrial number, as measured by quantitative PCR of mitochondrial DNA and citrate synthase activity. We found no change in the variability between mitochondrial mRNA levels with age, suggesting that the changes are not due to random dysregulation at the level of gene expression. Caloric restriction (CR), a lifespan-extending intervention proposed to act through mitochondrial biogenesis, delayed the decline in both cardiac and adipose mitochondrial mRNA levels of F344 rats. CR caused an increase in citrate synthase activity but did not alter mitochondrial DNA content, indicating increased translation or reduced turnover of mitochondrial proteins. These results demonstrate that mitochondrial gene expression changes with age are not coupled to mitochondrial number, are likely to be regulated, and are governed by tissue-specific processes. These findings indicate that aging is neither a programmed organism-wide change orchestrated in a top-down fashion nor a product of random dysregulation of gene expression but that tissue-specific factors may independently control aging in different organ compartments.',\n",
       " '',\n",
       " 'Keywords: aging']"
      ]
     },
     "execution_count": 15,
     "metadata": {},
     "output_type": "execute_result"
    }
   ],
   "source": [
    "gse_first.metadata['summary']"
   ]
  },
  {
   "cell_type": "code",
   "execution_count": 16,
   "id": "9a052580b92f7cc",
   "metadata": {
    "ExecuteTime": {
     "end_time": "2024-07-10T14:03:43.569769Z",
     "start_time": "2024-07-10T14:03:43.543573Z"
    },
    "collapsed": false
   },
   "outputs": [],
   "source": [
    "sample_from_first = gse_first.gsms['GSM313557']"
   ]
  },
  {
   "cell_type": "code",
   "execution_count": 17,
   "id": "8602e2dd7f119263",
   "metadata": {
    "ExecuteTime": {
     "end_time": "2024-07-10T14:03:43.574504Z",
     "start_time": "2024-07-10T14:03:43.545226Z"
    },
    "collapsed": false
   },
   "outputs": [],
   "source": [
    "sample_from_second = gse_second.gsms['GSM813000']"
   ]
  },
  {
   "cell_type": "code",
   "execution_count": 18,
   "id": "a5aa192398152199",
   "metadata": {
    "ExecuteTime": {
     "end_time": "2024-07-10T14:03:43.676002Z",
     "start_time": "2024-07-10T14:03:43.547487Z"
    },
    "collapsed": false
   },
   "outputs": [
    {
     "data": {
      "text/html": [
       "<div>\n",
       "<style scoped>\n",
       "    .dataframe tbody tr th:only-of-type {\n",
       "        vertical-align: middle;\n",
       "    }\n",
       "\n",
       "    .dataframe tbody tr th {\n",
       "        vertical-align: top;\n",
       "    }\n",
       "\n",
       "    .dataframe thead th {\n",
       "        text-align: right;\n",
       "    }\n",
       "</style>\n",
       "<table border=\"1\" class=\"dataframe\">\n",
       "  <thead>\n",
       "    <tr style=\"text-align: right;\">\n",
       "      <th></th>\n",
       "      <th>ID_REF</th>\n",
       "      <th>VALUE</th>\n",
       "    </tr>\n",
       "  </thead>\n",
       "  <tbody>\n",
       "    <tr>\n",
       "      <th>0</th>\n",
       "      <td>1415670_at</td>\n",
       "      <td>7.267794</td>\n",
       "    </tr>\n",
       "    <tr>\n",
       "      <th>1</th>\n",
       "      <td>1415671_at</td>\n",
       "      <td>8.142710</td>\n",
       "    </tr>\n",
       "    <tr>\n",
       "      <th>2</th>\n",
       "      <td>1415672_at</td>\n",
       "      <td>10.029217</td>\n",
       "    </tr>\n",
       "    <tr>\n",
       "      <th>3</th>\n",
       "      <td>1415673_at</td>\n",
       "      <td>6.062910</td>\n",
       "    </tr>\n",
       "    <tr>\n",
       "      <th>4</th>\n",
       "      <td>1415674_a_at</td>\n",
       "      <td>7.981538</td>\n",
       "    </tr>\n",
       "    <tr>\n",
       "      <th>...</th>\n",
       "      <td>...</td>\n",
       "      <td>...</td>\n",
       "    </tr>\n",
       "    <tr>\n",
       "      <th>45096</th>\n",
       "      <td>AFFX-TransRecMur/X57349_5_at</td>\n",
       "      <td>3.391950</td>\n",
       "    </tr>\n",
       "    <tr>\n",
       "      <th>45097</th>\n",
       "      <td>AFFX-TransRecMur/X57349_M_at</td>\n",
       "      <td>3.313670</td>\n",
       "    </tr>\n",
       "    <tr>\n",
       "      <th>45098</th>\n",
       "      <td>AFFX-TrpnX-3_at</td>\n",
       "      <td>2.777075</td>\n",
       "    </tr>\n",
       "    <tr>\n",
       "      <th>45099</th>\n",
       "      <td>AFFX-TrpnX-5_at</td>\n",
       "      <td>2.477285</td>\n",
       "    </tr>\n",
       "    <tr>\n",
       "      <th>45100</th>\n",
       "      <td>AFFX-TrpnX-M_at</td>\n",
       "      <td>2.841623</td>\n",
       "    </tr>\n",
       "  </tbody>\n",
       "</table>\n",
       "<p>45101 rows × 2 columns</p>\n",
       "</div>"
      ],
      "text/plain": [
       "                             ID_REF      VALUE\n",
       "0                        1415670_at   7.267794\n",
       "1                        1415671_at   8.142710\n",
       "2                        1415672_at  10.029217\n",
       "3                        1415673_at   6.062910\n",
       "4                      1415674_a_at   7.981538\n",
       "...                             ...        ...\n",
       "45096  AFFX-TransRecMur/X57349_5_at   3.391950\n",
       "45097  AFFX-TransRecMur/X57349_M_at   3.313670\n",
       "45098               AFFX-TrpnX-3_at   2.777075\n",
       "45099               AFFX-TrpnX-5_at   2.477285\n",
       "45100               AFFX-TrpnX-M_at   2.841623\n",
       "\n",
       "[45101 rows x 2 columns]"
      ]
     },
     "execution_count": 18,
     "metadata": {},
     "output_type": "execute_result"
    }
   ],
   "source": [
    "sample_from_first.table"
   ]
  },
  {
   "cell_type": "code",
   "execution_count": 19,
   "id": "17c8f246a954879b",
   "metadata": {
    "ExecuteTime": {
     "end_time": "2024-07-10T14:03:43.679941Z",
     "start_time": "2024-07-10T14:03:43.551519Z"
    },
    "collapsed": false
   },
   "outputs": [
    {
     "data": {
      "text/plain": [
       "{'title': ['Mitochondrial gene expression decline in aging is tissue-specific and independent of mitochondrial number'],\n",
       " 'geo_accession': ['GSE12480'],\n",
       " 'status': ['Public on Jul 03 2015'],\n",
       " 'submission_date': ['Aug 18 2008'],\n",
       " 'last_update_date': ['Feb 11 2019'],\n",
       " 'summary': ['Aging is the progressive decline in organismal function that leads to an increased risk of multiple diseases and mortality. The molecular basis of this decline is unknown. Using quantitative PCR for mitochondrial mRNA from multiple tissues from the same animals, we found that the rate of change in mouse mitochondrial expression is tissue-specific, with cardiac expression declining early (8-10 months), adipose expression declining late (25-30 months), and no change in kidney or skin. In cardiac tissue, mitochondria-derived mRNA levels declined more slowly than nuclear encoded mRNAs, suggesting a potential dysregulation. These changes were independent of alteration in mitochondrial number, as measured by quantitative PCR of mitochondrial DNA and citrate synthase activity. We found no change in the variability between mitochondrial mRNA levels with age, suggesting that the changes are not due to random dysregulation at the level of gene expression. Caloric restriction (CR), a lifespan-extending intervention proposed to act through mitochondrial biogenesis, delayed the decline in both cardiac and adipose mitochondrial mRNA levels of F344 rats. CR caused an increase in citrate synthase activity but did not alter mitochondrial DNA content, indicating increased translation or reduced turnover of mitochondrial proteins. These results demonstrate that mitochondrial gene expression changes with age are not coupled to mitochondrial number, are likely to be regulated, and are governed by tissue-specific processes. These findings indicate that aging is neither a programmed organism-wide change orchestrated in a top-down fashion nor a product of random dysregulation of gene expression but that tissue-specific factors may independently control aging in different organ compartments.',\n",
       "  '',\n",
       "  'Keywords: aging'],\n",
       " 'overall_design': ['Cardiac ventricle total RNA from 10 young (4-6 month) and 10 young (25-28 month) mice were compared.'],\n",
       " 'type': ['Expression profiling by array'],\n",
       " 'contributor': ['Richard,P,Beyer'],\n",
       " 'sample_id': ['GSM313557',\n",
       "  'GSM313558',\n",
       "  'GSM313559',\n",
       "  'GSM313560',\n",
       "  'GSM313561',\n",
       "  'GSM313562',\n",
       "  'GSM313563',\n",
       "  'GSM313564',\n",
       "  'GSM313565',\n",
       "  'GSM313566',\n",
       "  'GSM313567',\n",
       "  'GSM313568',\n",
       "  'GSM313569',\n",
       "  'GSM313570',\n",
       "  'GSM313571',\n",
       "  'GSM313572',\n",
       "  'GSM313573',\n",
       "  'GSM313574',\n",
       "  'GSM313575',\n",
       "  'GSM313576'],\n",
       " 'contact_name': ['James,William,MacDonald'],\n",
       " 'contact_email': ['jmacdon@uw.edu'],\n",
       " 'contact_department': ['Environmental and Occupational Health Sciences'],\n",
       " 'contact_institute': ['University of Washington'],\n",
       " 'contact_address': ['4225 Roosevelt Way NE'],\n",
       " 'contact_city': ['Seattle'],\n",
       " 'contact_state': ['WA'],\n",
       " 'contact_zip/postal_code': ['98105-6099'],\n",
       " 'contact_country': ['USA'],\n",
       " 'supplementary_file': ['ftp://ftp.ncbi.nlm.nih.gov/geo/series/GSE12nnn/GSE12480/suppl/GSE12480_RAW.tar'],\n",
       " 'platform_id': ['GPL1261'],\n",
       " 'platform_taxid': ['10090'],\n",
       " 'sample_taxid': ['10090'],\n",
       " 'relation': ['BioProject: https://www.ncbi.nlm.nih.gov/bioproject/PRJNA112957']}"
      ]
     },
     "execution_count": 19,
     "metadata": {},
     "output_type": "execute_result"
    }
   ],
   "source": [
    "gse_first.metadata"
   ]
  },
  {
   "cell_type": "code",
   "execution_count": 20,
   "id": "209f1c4ca598852d",
   "metadata": {
    "ExecuteTime": {
     "end_time": "2024-07-10T14:03:43.694231Z",
     "start_time": "2024-07-10T14:03:43.553833Z"
    },
    "collapsed": false
   },
   "outputs": [
    {
     "data": {
      "text/plain": [
       "{'title': ['mouse_heart1_old'],\n",
       " 'geo_accession': ['GSM313557'],\n",
       " 'status': ['Public on Jul 03 2015'],\n",
       " 'submission_date': ['Aug 18 2008'],\n",
       " 'last_update_date': ['Sep 05 2017'],\n",
       " 'type': ['RNA'],\n",
       " 'channel_count': ['1'],\n",
       " 'source_name_ch1': ['heart'],\n",
       " 'organism_ch1': ['Mus musculus'],\n",
       " 'taxid_ch1': ['10090'],\n",
       " 'characteristics_ch1': ['C57BL/6J male mice were multiply housed in ventilated cages in a specific pathogen free barrier facility at the University of Washington on a 12/12-h light/dark cycle.'],\n",
       " 'biomaterial_provider_ch1': ['University of Washington'],\n",
       " 'treatment_protocol_ch1': ['10 young (4-6 month) and 10 old (25-28 month) C57BL/6J male mice were multiply housed in ventilated cages in a specific pathogen free barrier facility at the University of Washington on a 12/12-h light/dark cycle. All animal procedures were approved by the University of Washington Animal Care and Use Committee.'],\n",
       " 'molecule_ch1': ['total RNA'],\n",
       " 'extract_protocol_ch1': ['Cardiac ventricle total RNA from 10 young (4-6 month) and 10 old (25-28 month) mice was prepared and hybridized to Affymetrix™GeneChip® MOE430 2.0 arrays. Total RNA was prepared from frozen tissues using the Qiagen RNeasy kit following homogenization in Trizol (Invitrogen). Genomic DNA was prepared using the Qiagen Dneasy kit.'],\n",
       " 'label_ch1': ['biotin'],\n",
       " 'label_protocol_ch1': ['Total RNA (2 ug) was labeled and hybridized to the Affymetrix GeneChip Mouse Genome 430 2.0 Arrays and hybridized according to manufacurer’s instructions.'],\n",
       " 'hyb_protocol': ['The standard hybridization protocol was used as recommended by Affymterix.'],\n",
       " 'scan_protocol': ['GeneChips were scanned using the Affymetrix GeneArray Scanner 3000.'],\n",
       " 'description': ['C57BL/6J male mice were multiply housed in ventilated cages in a specific pathogen free barrier facility at the University of Washington on a 12/12-h light/dark cycle. All animal procedures were approved by the University of Washington Animal Care and Use Committee.'],\n",
       " 'data_processing': ['Bioconductor GCRMA normalization log2'],\n",
       " 'platform_id': ['GPL1261'],\n",
       " 'contact_name': ['James,William,MacDonald'],\n",
       " 'contact_email': ['jmacdon@uw.edu'],\n",
       " 'contact_department': ['Environmental and Occupational Health Sciences'],\n",
       " 'contact_institute': ['University of Washington'],\n",
       " 'contact_address': ['4225 Roosevelt Way NE'],\n",
       " 'contact_city': ['Seattle'],\n",
       " 'contact_state': ['WA'],\n",
       " 'contact_zip/postal_code': ['98105-6099'],\n",
       " 'contact_country': ['USA'],\n",
       " 'supplementary_file': ['ftp://ftp.ncbi.nlm.nih.gov/geo/samples/GSM313nnn/GSM313557/suppl/GSM313557.CEL.gz'],\n",
       " 'series_id': ['GSE12480'],\n",
       " 'data_row_count': ['45101']}"
      ]
     },
     "execution_count": 20,
     "metadata": {},
     "output_type": "execute_result"
    }
   ],
   "source": [
    "sample_from_first.metadata"
   ]
  },
  {
   "cell_type": "code",
   "execution_count": 21,
   "id": "37cea3b8d2a1d128",
   "metadata": {
    "ExecuteTime": {
     "end_time": "2024-07-10T14:03:43.697202Z",
     "start_time": "2024-07-10T14:03:43.555508Z"
    },
    "collapsed": false
   },
   "outputs": [
    {
     "data": {
      "text/plain": [
       "['The standard hybridization protocol was used as recommended by Affymterix.']"
      ]
     },
     "execution_count": 21,
     "metadata": {},
     "output_type": "execute_result"
    }
   ],
   "source": [
    "sample_from_first.metadata['hyb_protocol']"
   ]
  },
  {
   "cell_type": "code",
   "execution_count": 22,
   "id": "8f25c457da651587",
   "metadata": {
    "ExecuteTime": {
     "end_time": "2024-07-10T14:03:43.703457Z",
     "start_time": "2024-07-10T14:03:43.558312Z"
    },
    "collapsed": false
   },
   "outputs": [
    {
     "data": {
      "text/plain": [
       "{'title': ['Expression data from human bone marrow hematopoietic stem cells'],\n",
       " 'geo_accession': ['GSE32719'],\n",
       " 'status': ['Public on Nov 11 2011'],\n",
       " 'submission_date': ['Oct 10 2011'],\n",
       " 'last_update_date': ['Mar 25 2019'],\n",
       " 'pubmed_id': ['22123971'],\n",
       " 'summary': ['In the human hematopoietic system, aging is associated with decreased bone marrow cellularity, decreased adaptive immune system function, and increased incidence of anemia and other hematological disorders and malignancies. Recent studies in mice suggest that changes within the hematopoietic stem cell (HSC) population during aging contribute significantly to the manifestation of these age-associated hematopoietic pathologies. While the mouse HSC population has been shown to change both quantitatively and functionally with age, changes in the human HSC and progenitor cell populations during aging have not yet been characterized.',\n",
       "  'Gene expression profiling revealed that aged human HSC transcriptionally up-regulate genes associated with cell cycle, myeloid lineage specification, and myeloid malignancies. These age-associated alterations in the frequency, function, and gene expression profile of human HSC are significantly similar to those changes observed in mouse HSC, suggesting that hematopoietic aging is an evolutionarily conserved process.'],\n",
       " 'overall_design': ['In order to elucidate the properties of an aged human hematopoietic system that may predispose to age-associated hematopoietic dysfunction, we evaluated HSC and other hematopoietic progenitor populations from healthy, hematologically normal young and elderly human bone marrow samples. We found that aged human HSC increase in frequency, are less quiescent, and exhibit myeloid-biased differentiation potential compared to young HSC.'],\n",
       " 'type': ['Expression profiling by array'],\n",
       " 'contributor': ['Wendy,W,Pang',\n",
       "  'Elizabeth,A,Price',\n",
       "  'Debashis,,Sahoo',\n",
       "  'Isabel,,Beerman',\n",
       "  'William,J,Maloney',\n",
       "  'Derrick,J,Rossi',\n",
       "  'Stanley,L,Schrier',\n",
       "  'Irving,L,Weissman'],\n",
       " 'sample_id': ['GSM812988',\n",
       "  'GSM812989',\n",
       "  'GSM812990',\n",
       "  'GSM812991',\n",
       "  'GSM812992',\n",
       "  'GSM812993',\n",
       "  'GSM812994',\n",
       "  'GSM812995',\n",
       "  'GSM812996',\n",
       "  'GSM812997',\n",
       "  'GSM812998',\n",
       "  'GSM812999',\n",
       "  'GSM813000',\n",
       "  'GSM813001',\n",
       "  'GSM813002',\n",
       "  'GSM813003',\n",
       "  'GSM813004',\n",
       "  'GSM813005',\n",
       "  'GSM813006',\n",
       "  'GSM813007',\n",
       "  'GSM813008',\n",
       "  'GSM813009',\n",
       "  'GSM813010',\n",
       "  'GSM813011',\n",
       "  'GSM813012',\n",
       "  'GSM813013',\n",
       "  'GSM813014'],\n",
       " 'contact_name': ['Debashis,,Sahoo'],\n",
       " 'contact_email': ['sahoo@stanford.edu'],\n",
       " 'contact_phone': ['650-862-4736'],\n",
       " 'contact_fax': ['(650) 736-2961'],\n",
       " 'contact_laboratory': ['Weissman lab'],\n",
       " 'contact_department': ['Pathology'],\n",
       " 'contact_institute': ['Stanford University'],\n",
       " 'contact_address': ['265 Campus Drive, Rm G3101B'],\n",
       " 'contact_city': ['Stanford'],\n",
       " 'contact_state': ['CA'],\n",
       " 'contact_zip/postal_code': ['94305'],\n",
       " 'contact_country': ['USA'],\n",
       " 'contact_web_link': ['http://www.stanford.edu/~sahoo'],\n",
       " 'supplementary_file': ['ftp://ftp.ncbi.nlm.nih.gov/geo/series/GSE32nnn/GSE32719/suppl/GSE32719_RAW.tar'],\n",
       " 'platform_id': ['GPL570'],\n",
       " 'platform_taxid': ['9606'],\n",
       " 'sample_taxid': ['9606'],\n",
       " 'relation': ['BioProject: https://www.ncbi.nlm.nih.gov/bioproject/PRJNA146789']}"
      ]
     },
     "execution_count": 22,
     "metadata": {},
     "output_type": "execute_result"
    }
   ],
   "source": [
    "gse_second.metadata"
   ]
  },
  {
   "cell_type": "code",
   "execution_count": 23,
   "id": "62cbed673fcb4c55",
   "metadata": {
    "ExecuteTime": {
     "end_time": "2024-07-10T14:03:43.709332Z",
     "start_time": "2024-07-10T14:03:43.560247Z"
    },
    "collapsed": false
   },
   "outputs": [
    {
     "data": {
      "text/plain": [
       "{'title': ['Young HSC 13'],\n",
       " 'geo_accession': ['GSM813000'],\n",
       " 'status': ['Public on Nov 11 2011'],\n",
       " 'submission_date': ['Oct 10 2011'],\n",
       " 'last_update_date': ['Nov 11 2011'],\n",
       " 'type': ['RNA'],\n",
       " 'channel_count': ['1'],\n",
       " 'source_name_ch1': ['Young HSC'],\n",
       " 'organism_ch1': ['Homo sapiens'],\n",
       " 'taxid_ch1': ['9606'],\n",
       " 'characteristics_ch1': ['tissue: bone marrow',\n",
       "  'cell type: hematopoietic stem cell',\n",
       "  'age: 19'],\n",
       " 'treatment_protocol_ch1': ['Mononuclear cells were prepared using Ficoll-Paque Plus (GE Healthcare), and either analyzed/sorted fresh or cryopreserved in 90% FBS, 10% DMSO in liquid nitrogen. Human CD34-positive cells were enriched using magnetic beads (Miltenyi Biotec, Germany; Stemcell Technologies, Vancouver, BC).'],\n",
       " 'growth_protocol_ch1': ['Analyzed/sorted fresh or cryopreserved in 90% FBS, 10% DMSO in liquid nitrogen.'],\n",
       " 'molecule_ch1': ['total RNA'],\n",
       " 'extract_protocol_ch1': [\"Total RNA was extracted using Trizol (Invitrogen) or Ambion RNA Isolation Kit (Applied Biosystems by Life Technologies, Carlsbad, CA), according to the manufacturer's protocols, and treated with DNaseI (Qiagen, Germany).\"],\n",
       " 'label_ch1': ['biotin'],\n",
       " 'label_protocol_ch1': ['All RNA samples were quantified with the RiboGreen RNA Quantitation Kit (Molecular Probes, Eugene, OR), subjected to reverse transcription, 2 consecutive rounds of linear amplification, and production and fragmentation of biotinylated cRNA (Affymetrix, Santa Clara, CA).'],\n",
       " 'hyb_protocol': ['Standard Affymetrix procedures'],\n",
       " 'scan_protocol': ['Standard Affymetrix procedures'],\n",
       " 'description': ['Gene expression data from young HSC'],\n",
       " 'data_processing': ['The data were normalized using RMA.'],\n",
       " 'platform_id': ['GPL570'],\n",
       " 'contact_name': ['Debashis,,Sahoo'],\n",
       " 'contact_email': ['sahoo@stanford.edu'],\n",
       " 'contact_phone': ['650-862-4736'],\n",
       " 'contact_fax': ['(650) 736-2961'],\n",
       " 'contact_laboratory': ['Weissman lab'],\n",
       " 'contact_department': ['Pathology'],\n",
       " 'contact_institute': ['Stanford University'],\n",
       " 'contact_address': ['265 Campus Drive, Rm G3101B'],\n",
       " 'contact_city': ['Stanford'],\n",
       " 'contact_state': ['CA'],\n",
       " 'contact_zip/postal_code': ['94305'],\n",
       " 'contact_country': ['USA'],\n",
       " 'contact_web_link': ['http://www.stanford.edu/~sahoo'],\n",
       " 'supplementary_file': ['ftp://ftp.ncbi.nlm.nih.gov/geo/samples/GSM813nnn/GSM813000/suppl/GSM813000_YoungHSC13.CEL.gz'],\n",
       " 'series_id': ['GSE32719'],\n",
       " 'data_row_count': ['54675']}"
      ]
     },
     "execution_count": 23,
     "metadata": {},
     "output_type": "execute_result"
    }
   ],
   "source": [
    "sample_from_second.metadata "
   ]
  },
  {
   "cell_type": "code",
   "execution_count": 24,
   "id": "fc8520c84bcd0237",
   "metadata": {
    "ExecuteTime": {
     "end_time": "2024-07-10T14:03:43.712136Z",
     "start_time": "2024-07-10T14:03:43.562963Z"
    },
    "collapsed": false
   },
   "outputs": [
    {
     "data": {
      "text/plain": [
       "[\"Total RNA was extracted using Trizol (Invitrogen) or Ambion RNA Isolation Kit (Applied Biosystems by Life Technologies, Carlsbad, CA), according to the manufacturer's protocols, and treated with DNaseI (Qiagen, Germany).\"]"
      ]
     },
     "execution_count": 24,
     "metadata": {},
     "output_type": "execute_result"
    }
   ],
   "source": [
    "sample_from_second.metadata['extract_protocol_ch1']"
   ]
  },
  {
   "cell_type": "code",
   "execution_count": 25,
   "id": "8254f8342136c168",
   "metadata": {
    "ExecuteTime": {
     "end_time": "2024-07-10T14:03:43.717089Z",
     "start_time": "2024-07-10T14:03:43.565172Z"
    },
    "collapsed": false
   },
   "outputs": [
    {
     "data": {
      "text/plain": [
       "['Cardiac ventricle total RNA from 10 young (4-6 month) and 10 old (25-28 month) mice was prepared and hybridized to Affymetrix™GeneChip® MOE430 2.0 arrays. Total RNA was prepared from frozen tissues using the Qiagen RNeasy kit following homogenization in Trizol (Invitrogen). Genomic DNA was prepared using the Qiagen Dneasy kit.']"
      ]
     },
     "execution_count": 25,
     "metadata": {},
     "output_type": "execute_result"
    }
   ],
   "source": [
    "sample_from_first.metadata['extract_protocol_ch1']"
   ]
  },
  {
   "cell_type": "code",
   "execution_count": 26,
   "id": "f31d84a05ba58714",
   "metadata": {
    "ExecuteTime": {
     "end_time": "2024-07-10T14:03:43.842963Z",
     "start_time": "2024-07-10T14:03:43.567049Z"
    },
    "collapsed": false
   },
   "outputs": [],
   "source": [
    "import os\n",
    "\n",
    "from openai import OpenAI\n",
    "\n",
    "\n",
    "def openai_generate(messages: list, model: str = 'gpt-4', **generation_params):\n",
    "    client = OpenAI()\n",
    "\n",
    "    completion = client.chat.completions.create(\n",
    "        messages=messages,\n",
    "        model=model,\n",
    "        **generation_params\n",
    "    )\n",
    "    return completion#.choices[0].message.content"
   ]
  },
  {
   "cell_type": "code",
   "execution_count": 27,
   "id": "dd1672d3eb8b0379",
   "metadata": {
    "ExecuteTime": {
     "end_time": "2024-07-10T14:03:43.845236Z",
     "start_time": "2024-07-10T14:03:43.843547Z"
    },
    "collapsed": false
   },
   "outputs": [
    {
     "data": {
      "text/plain": [
       "{'title': ['Mitochondrial gene expression decline in aging is tissue-specific and independent of mitochondrial number'],\n",
       " 'geo_accession': ['GSE12480'],\n",
       " 'status': ['Public on Jul 03 2015'],\n",
       " 'submission_date': ['Aug 18 2008'],\n",
       " 'last_update_date': ['Feb 11 2019'],\n",
       " 'summary': ['Aging is the progressive decline in organismal function that leads to an increased risk of multiple diseases and mortality. The molecular basis of this decline is unknown. Using quantitative PCR for mitochondrial mRNA from multiple tissues from the same animals, we found that the rate of change in mouse mitochondrial expression is tissue-specific, with cardiac expression declining early (8-10 months), adipose expression declining late (25-30 months), and no change in kidney or skin. In cardiac tissue, mitochondria-derived mRNA levels declined more slowly than nuclear encoded mRNAs, suggesting a potential dysregulation. These changes were independent of alteration in mitochondrial number, as measured by quantitative PCR of mitochondrial DNA and citrate synthase activity. We found no change in the variability between mitochondrial mRNA levels with age, suggesting that the changes are not due to random dysregulation at the level of gene expression. Caloric restriction (CR), a lifespan-extending intervention proposed to act through mitochondrial biogenesis, delayed the decline in both cardiac and adipose mitochondrial mRNA levels of F344 rats. CR caused an increase in citrate synthase activity but did not alter mitochondrial DNA content, indicating increased translation or reduced turnover of mitochondrial proteins. These results demonstrate that mitochondrial gene expression changes with age are not coupled to mitochondrial number, are likely to be regulated, and are governed by tissue-specific processes. These findings indicate that aging is neither a programmed organism-wide change orchestrated in a top-down fashion nor a product of random dysregulation of gene expression but that tissue-specific factors may independently control aging in different organ compartments.',\n",
       "  '',\n",
       "  'Keywords: aging'],\n",
       " 'overall_design': ['Cardiac ventricle total RNA from 10 young (4-6 month) and 10 young (25-28 month) mice were compared.'],\n",
       " 'type': ['Expression profiling by array'],\n",
       " 'contributor': ['Richard,P,Beyer'],\n",
       " 'sample_id': ['GSM313557',\n",
       "  'GSM313558',\n",
       "  'GSM313559',\n",
       "  'GSM313560',\n",
       "  'GSM313561',\n",
       "  'GSM313562',\n",
       "  'GSM313563',\n",
       "  'GSM313564',\n",
       "  'GSM313565',\n",
       "  'GSM313566',\n",
       "  'GSM313567',\n",
       "  'GSM313568',\n",
       "  'GSM313569',\n",
       "  'GSM313570',\n",
       "  'GSM313571',\n",
       "  'GSM313572',\n",
       "  'GSM313573',\n",
       "  'GSM313574',\n",
       "  'GSM313575',\n",
       "  'GSM313576'],\n",
       " 'contact_name': ['James,William,MacDonald'],\n",
       " 'contact_email': ['jmacdon@uw.edu'],\n",
       " 'contact_department': ['Environmental and Occupational Health Sciences'],\n",
       " 'contact_institute': ['University of Washington'],\n",
       " 'contact_address': ['4225 Roosevelt Way NE'],\n",
       " 'contact_city': ['Seattle'],\n",
       " 'contact_state': ['WA'],\n",
       " 'contact_zip/postal_code': ['98105-6099'],\n",
       " 'contact_country': ['USA'],\n",
       " 'supplementary_file': ['ftp://ftp.ncbi.nlm.nih.gov/geo/series/GSE12nnn/GSE12480/suppl/GSE12480_RAW.tar'],\n",
       " 'platform_id': ['GPL1261'],\n",
       " 'platform_taxid': ['10090'],\n",
       " 'sample_taxid': ['10090'],\n",
       " 'relation': ['BioProject: https://www.ncbi.nlm.nih.gov/bioproject/PRJNA112957']}"
      ]
     },
     "execution_count": 27,
     "metadata": {},
     "output_type": "execute_result"
    }
   ],
   "source": [
    "gse_first.metadata"
   ]
  },
  {
   "cell_type": "code",
   "execution_count": 28,
   "id": "d2088b28815f3814",
   "metadata": {
    "ExecuteTime": {
     "end_time": "2024-07-10T14:03:43.850163Z",
     "start_time": "2024-07-10T14:03:43.848568Z"
    },
    "collapsed": false
   },
   "outputs": [
    {
     "data": {
      "text/plain": [
       "{'title': ['mouse_heart1_old'],\n",
       " 'geo_accession': ['GSM313557'],\n",
       " 'status': ['Public on Jul 03 2015'],\n",
       " 'submission_date': ['Aug 18 2008'],\n",
       " 'last_update_date': ['Sep 05 2017'],\n",
       " 'type': ['RNA'],\n",
       " 'channel_count': ['1'],\n",
       " 'source_name_ch1': ['heart'],\n",
       " 'organism_ch1': ['Mus musculus'],\n",
       " 'taxid_ch1': ['10090'],\n",
       " 'characteristics_ch1': ['C57BL/6J male mice were multiply housed in ventilated cages in a specific pathogen free barrier facility at the University of Washington on a 12/12-h light/dark cycle.'],\n",
       " 'biomaterial_provider_ch1': ['University of Washington'],\n",
       " 'treatment_protocol_ch1': ['10 young (4-6 month) and 10 old (25-28 month) C57BL/6J male mice were multiply housed in ventilated cages in a specific pathogen free barrier facility at the University of Washington on a 12/12-h light/dark cycle. All animal procedures were approved by the University of Washington Animal Care and Use Committee.'],\n",
       " 'molecule_ch1': ['total RNA'],\n",
       " 'extract_protocol_ch1': ['Cardiac ventricle total RNA from 10 young (4-6 month) and 10 old (25-28 month) mice was prepared and hybridized to Affymetrix™GeneChip® MOE430 2.0 arrays. Total RNA was prepared from frozen tissues using the Qiagen RNeasy kit following homogenization in Trizol (Invitrogen). Genomic DNA was prepared using the Qiagen Dneasy kit.'],\n",
       " 'label_ch1': ['biotin'],\n",
       " 'label_protocol_ch1': ['Total RNA (2 ug) was labeled and hybridized to the Affymetrix GeneChip Mouse Genome 430 2.0 Arrays and hybridized according to manufacurer’s instructions.'],\n",
       " 'hyb_protocol': ['The standard hybridization protocol was used as recommended by Affymterix.'],\n",
       " 'scan_protocol': ['GeneChips were scanned using the Affymetrix GeneArray Scanner 3000.'],\n",
       " 'description': ['C57BL/6J male mice were multiply housed in ventilated cages in a specific pathogen free barrier facility at the University of Washington on a 12/12-h light/dark cycle. All animal procedures were approved by the University of Washington Animal Care and Use Committee.'],\n",
       " 'data_processing': ['Bioconductor GCRMA normalization log2'],\n",
       " 'platform_id': ['GPL1261'],\n",
       " 'contact_name': ['James,William,MacDonald'],\n",
       " 'contact_email': ['jmacdon@uw.edu'],\n",
       " 'contact_department': ['Environmental and Occupational Health Sciences'],\n",
       " 'contact_institute': ['University of Washington'],\n",
       " 'contact_address': ['4225 Roosevelt Way NE'],\n",
       " 'contact_city': ['Seattle'],\n",
       " 'contact_state': ['WA'],\n",
       " 'contact_zip/postal_code': ['98105-6099'],\n",
       " 'contact_country': ['USA'],\n",
       " 'supplementary_file': ['ftp://ftp.ncbi.nlm.nih.gov/geo/samples/GSM313nnn/GSM313557/suppl/GSM313557.CEL.gz'],\n",
       " 'series_id': ['GSE12480'],\n",
       " 'data_row_count': ['45101']}"
      ]
     },
     "execution_count": 28,
     "metadata": {},
     "output_type": "execute_result"
    }
   ],
   "source": [
    "sample_from_first.metadata"
   ]
  },
  {
   "cell_type": "code",
   "execution_count": 29,
   "id": "7a443f7917ac012b",
   "metadata": {
    "ExecuteTime": {
     "end_time": "2024-07-10T14:03:43.853151Z",
     "start_time": "2024-07-10T14:03:43.851591Z"
    },
    "collapsed": false
   },
   "outputs": [],
   "source": [
    "def extract_metadata(gse, gsm):\n",
    "    # GSE Fields\n",
    "    # 'title' : The title of the Gene Expression Omnibus (GEO) series (GSE)\n",
    "    gse_title = gse.metadata['title'][0] if 'title' in gse.metadata else 'N/A'\n",
    "    \n",
    "    # 'summary' : Brief summary of the experiment conducted in the GSE\n",
    "    gse_summary = gse.metadata['summary'][0] if 'summary' in gse.metadata else 'N/A'\n",
    "    \n",
    "    # 'keywords' : Keywords associated with the GSE\n",
    "    gse_keywords = gse.metadata['keywords'][0] if 'keywords' in gse.metadata else 'N/A'\n",
    "    \n",
    "    # 'overall_design' : Overall design of the experiment conducted in the GSE\n",
    "    gse_overall_design = gse.metadata['overall_design'][0] if 'overall_design' in gse.metadata else 'N/A'\n",
    "\n",
    "    # GSM Fields\n",
    "    # 'title' : The title of the individual sample (GSM)\n",
    "    gsm_title = gsm.metadata['title'][0] if 'title' in gsm.metadata else 'N/A'\n",
    "    \n",
    "    # 'source_name_ch1' : Biological source from which the sample was taken\n",
    "    gsm_source_name_ch1 = gsm.metadata['source_name_ch1'][0] if 'source_name_ch1' in gsm.metadata else 'N/A'\n",
    "    \n",
    "    # 'organusm_ch1' : The organism from which the sample was taken\n",
    "    gsm_organism_ch1 = gsm.metadata['organism_ch1'][0] if 'organism_ch1' in gsm.metadata else 'N/A'\n",
    "    \n",
    "    # 'characteristics_ch1' : Characteristics and traits of the sample\n",
    "    gsm_characteristics_ch1 = gsm.metadata['characteristics_ch1'][0] if 'characteristics_ch1' in gsm.metadata else 'N/A'\n",
    "    \n",
    "    # 'description' : Additional information about the sample\n",
    "    gsm_description = gsm.metadata['description'][0] if 'description' in gsm.metadata else 'N/A'\n",
    "\n",
    "    # Combine everything into a single string\n",
    "    metadata_str = f\"GSE Title: {gse_title}\\nGSE Summary: {gse_summary}\\nGSE Keywords: {gse_keywords}\\nGSE Overall Design: {gse_overall_design}\\n\"\n",
    "    metadata_str += f\"GSM Organism: {gsm_organism_ch1}\\nGSM Characteristics: {gsm_characteristics_ch1}\\nGSM Description: {gsm_description}\"\n",
    "\n",
    "    return metadata_str"
   ]
  },
  {
   "cell_type": "code",
   "execution_count": 30,
   "id": "f2c0a35e5bb6fa89",
   "metadata": {
    "ExecuteTime": {
     "end_time": "2024-07-10T14:03:43.854919Z",
     "start_time": "2024-07-10T14:03:43.853530Z"
    },
    "collapsed": false
   },
   "outputs": [
    {
     "name": "stdout",
     "output_type": "stream",
     "text": [
      "GSE Title: Mitochondrial gene expression decline in aging is tissue-specific and independent of mitochondrial number\n",
      "GSE Summary: Aging is the progressive decline in organismal function that leads to an increased risk of multiple diseases and mortality. The molecular basis of this decline is unknown. Using quantitative PCR for mitochondrial mRNA from multiple tissues from the same animals, we found that the rate of change in mouse mitochondrial expression is tissue-specific, with cardiac expression declining early (8-10 months), adipose expression declining late (25-30 months), and no change in kidney or skin. In cardiac tissue, mitochondria-derived mRNA levels declined more slowly than nuclear encoded mRNAs, suggesting a potential dysregulation. These changes were independent of alteration in mitochondrial number, as measured by quantitative PCR of mitochondrial DNA and citrate synthase activity. We found no change in the variability between mitochondrial mRNA levels with age, suggesting that the changes are not due to random dysregulation at the level of gene expression. Caloric restriction (CR), a lifespan-extending intervention proposed to act through mitochondrial biogenesis, delayed the decline in both cardiac and adipose mitochondrial mRNA levels of F344 rats. CR caused an increase in citrate synthase activity but did not alter mitochondrial DNA content, indicating increased translation or reduced turnover of mitochondrial proteins. These results demonstrate that mitochondrial gene expression changes with age are not coupled to mitochondrial number, are likely to be regulated, and are governed by tissue-specific processes. These findings indicate that aging is neither a programmed organism-wide change orchestrated in a top-down fashion nor a product of random dysregulation of gene expression but that tissue-specific factors may independently control aging in different organ compartments.\n",
      "GSE Keywords: N/A\n",
      "GSE Overall Design: Cardiac ventricle total RNA from 10 young (4-6 month) and 10 young (25-28 month) mice were compared.\n",
      "GSM Organism: Mus musculus\n",
      "GSM Characteristics: C57BL/6J male mice were multiply housed in ventilated cages in a specific pathogen free barrier facility at the University of Washington on a 12/12-h light/dark cycle.\n",
      "GSM Description: C57BL/6J male mice were multiply housed in ventilated cages in a specific pathogen free barrier facility at the University of Washington on a 12/12-h light/dark cycle. All animal procedures were approved by the University of Washington Animal Care and Use Committee.\n"
     ]
    }
   ],
   "source": [
    "print(extract_metadata(gse_first, sample_from_first))"
   ]
  },
  {
   "cell_type": "code",
   "execution_count": 31,
   "id": "e40961c235776401",
   "metadata": {
    "ExecuteTime": {
     "end_time": "2024-07-10T14:03:43.859230Z",
     "start_time": "2024-07-10T14:03:43.855583Z"
    },
    "collapsed": false
   },
   "outputs": [],
   "source": [
    "def collect_unique_field_values(key='data_processing'):\n",
    "    field_values = set()\n",
    "    for gse in gse_list:\n",
    "        try:\n",
    "            for gsm in gse.gsms:\n",
    "                sample = gse.gsms[gsm]\n",
    "                field_values.update(set(sample.metadata[key]))\n",
    "        except Exception as e:\n",
    "            print(e)\n",
    "    return field_values"
   ]
  },
  {
   "cell_type": "code",
   "execution_count": 32,
   "id": "deb661f835ef0544",
   "metadata": {
    "ExecuteTime": {
     "end_time": "2024-07-10T14:03:43.864462Z",
     "start_time": "2024-07-10T14:03:43.860317Z"
    },
    "collapsed": false
   },
   "outputs": [
    {
     "name": "stdout",
     "output_type": "stream",
     "text": [
      "'GDS' object has no attribute 'gsms'\n",
      "'GDS' object has no attribute 'gsms'\n",
      "'GDS' object has no attribute 'gsms'\n",
      "'GDS' object has no attribute 'gsms'\n",
      "'GDS' object has no attribute 'gsms'\n",
      "'GDS' object has no attribute 'gsms'\n",
      "'GDS' object has no attribute 'gsms'\n",
      "'GDS' object has no attribute 'gsms'\n",
      "'GDS' object has no attribute 'gsms'\n",
      "'GDS' object has no attribute 'gsms'\n",
      "'GDS' object has no attribute 'gsms'\n",
      "'GDS' object has no attribute 'gsms'\n",
      "'GDS' object has no attribute 'gsms'\n",
      "'GDS' object has no attribute 'gsms'\n",
      "'GDS' object has no attribute 'gsms'\n",
      "'GDS' object has no attribute 'gsms'\n",
      "'GDS' object has no attribute 'gsms'\n",
      "'GDS' object has no attribute 'gsms'\n",
      "'GDS' object has no attribute 'gsms'\n",
      "'GDS' object has no attribute 'gsms'\n",
      "'GDS' object has no attribute 'gsms'\n",
      "'GDS' object has no attribute 'gsms'\n",
      "'GDS' object has no attribute 'gsms'\n",
      "'GDS' object has no attribute 'gsms'\n",
      "'GDS' object has no attribute 'gsms'\n",
      "'GDS' object has no attribute 'gsms'\n",
      "'GDS' object has no attribute 'gsms'\n",
      "'GDS' object has no attribute 'gsms'\n",
      "'GDS' object has no attribute 'gsms'\n",
      "'GDS' object has no attribute 'gsms'\n",
      "'GDS' object has no attribute 'gsms'\n",
      "'GDS' object has no attribute 'gsms'\n",
      "'GDS' object has no attribute 'gsms'\n",
      "'GDS' object has no attribute 'gsms'\n",
      "'GDS' object has no attribute 'gsms'\n",
      "'GDS' object has no attribute 'gsms'\n",
      "'GDS' object has no attribute 'gsms'\n",
      "'GDS' object has no attribute 'gsms'\n",
      "'GDS' object has no attribute 'gsms'\n",
      "'GDS' object has no attribute 'gsms'\n",
      "'GDS' object has no attribute 'gsms'\n",
      "'GDS' object has no attribute 'gsms'\n",
      "'GDS' object has no attribute 'gsms'\n",
      "'GDS' object has no attribute 'gsms'\n",
      "'GDS' object has no attribute 'gsms'\n",
      "'GDS' object has no attribute 'gsms'\n",
      "'GDS' object has no attribute 'gsms'\n",
      "'GDS' object has no attribute 'gsms'\n",
      "'GDS' object has no attribute 'gsms'\n",
      "'GDS' object has no attribute 'gsms'\n",
      "'GDS' object has no attribute 'gsms'\n",
      "'GDS' object has no attribute 'gsms'\n",
      "'GDS' object has no attribute 'gsms'\n",
      "'GDS' object has no attribute 'gsms'\n",
      "'GDS' object has no attribute 'gsms'\n",
      "'description'\n",
      "'description'\n",
      "'description'\n",
      "'description'\n",
      "'description'\n",
      "'description'\n",
      "'description'\n",
      "'description'\n",
      "'description'\n"
     ]
    }
   ],
   "source": [
    "unique_values = collect_unique_field_values(key='description')"
   ]
  },
  {
   "cell_type": "markdown",
   "id": "47359bfee36773db",
   "metadata": {
    "collapsed": false
   },
   "source": [
    "### whatever"
   ]
  },
  {
   "cell_type": "code",
   "execution_count": 33,
   "id": "917b8dd02cb9b7c0",
   "metadata": {
    "ExecuteTime": {
     "end_time": "2024-07-10T14:03:43.940537Z",
     "start_time": "2024-07-10T14:03:43.862505Z"
    },
    "collapsed": false
   },
   "outputs": [
    {
     "data": {
      "text/plain": [
       "{'title': ['Age effect on myoblast progenitors'],\n",
       " 'description': ['Analysis of primary myoblast progenitor (MP) cultures from 8 and 23 month old DBA/2JNIA females. MPs are responsible for the growth, repair, and maintenance of skeletal muscle. Results provide insight into age-related alterations in MP function that contribute to changes in muscle composition.'],\n",
       " 'type': ['Expression profiling by array'],\n",
       " 'pubmed_id': ['15569352'],\n",
       " 'platform': ['GPL81'],\n",
       " 'platform_organism': ['Mus musculus'],\n",
       " 'platform_technology_type': ['in situ oligonucleotide'],\n",
       " 'feature_count': ['12488'],\n",
       " 'sample_organism': ['Mus musculus'],\n",
       " 'sample_type': ['RNA'],\n",
       " 'channel_count': ['1'],\n",
       " 'sample_count': ['4'],\n",
       " 'value_type': ['count'],\n",
       " 'reference_series': ['GSE273'],\n",
       " 'order': ['ordered'],\n",
       " 'update_date': ['Oct 10 2012']}"
      ]
     },
     "execution_count": 33,
     "metadata": {},
     "output_type": "execute_result"
    }
   ],
   "source": [
    "gse_list[0].metadata"
   ]
  },
  {
   "cell_type": "code",
   "execution_count": 34,
   "id": "d22e430281058d6e",
   "metadata": {
    "ExecuteTime": {
     "end_time": "2024-07-10T14:03:43.956427Z",
     "start_time": "2024-07-10T14:03:43.864208Z"
    },
    "collapsed": false
   },
   "outputs": [],
   "source": [
    "from prompts.data_processing import data_processing_constitution"
   ]
  },
  {
   "cell_type": "code",
   "execution_count": 35,
   "id": "58e995d63a0bd190",
   "metadata": {
    "ExecuteTime": {
     "end_time": "2024-07-10T14:03:43.957274Z",
     "start_time": "2024-07-10T14:03:43.866504Z"
    },
    "collapsed": false
   },
   "outputs": [],
   "source": [
    "example_message = '''Raw data (CEL files) were processed using the robust multi-array average (RMA) algorithm and quantile normalization with the Affymetrix Power Tools, version 1.12.0, and platform-specific library files. Differential gene expression was analyzed using descriptive statistics (fold change) and Student’s T-Test method for pairwise comparisons. Genes were prioritized by statistical evidence. In order to create candidate lists for differential gene expression between conditions, we used all genes regulated at least 1.5-fold where differential expression was significant at level 0.05. Type I error inflation was ignored because the p-values were used to prioritize the list rather than being interpreted in a confirmatory sense.'''"
   ]
  },
  {
   "cell_type": "code",
   "execution_count": 36,
   "id": "8897995c5ac91067",
   "metadata": {
    "ExecuteTime": {
     "end_time": "2024-07-10T14:03:43.960480Z",
     "start_time": "2024-07-10T14:03:43.868199Z"
    },
    "collapsed": false
   },
   "outputs": [],
   "source": [
    "messages =[\n",
    "    {'role':'system', 'content':data_processing_constitution},\n",
    "    {'role':'user', 'content':example_message}\n",
    "]"
   ]
  },
  {
   "cell_type": "code",
   "execution_count": 37,
   "id": "6f4d1dfd4f4683b1",
   "metadata": {
    "ExecuteTime": {
     "end_time": "2024-07-10T14:03:49.001026Z",
     "start_time": "2024-07-10T14:03:43.869951Z"
    },
    "collapsed": false
   },
   "outputs": [
    {
     "name": "stdout",
     "output_type": "stream",
     "text": [
      "SoftwareUsed(AffymetrixPowerTools)\n",
      "SoftwareVersion(AffymetrixPowerTools, 1.12.0)\n",
      "MethodApplied(RobustMultiArrayAverageAlgorithm)\n",
      "MethodApplied(QuantileNormalization)\n",
      "DifferentialExpressionAnalysis(DescriptiveStatisticsFoldChange)\n",
      "DifferentialExpressionAnalysis(StudentsTTest)\n",
      "AdditionalParameter(FoldChangeCutOff, 1.5)\n",
      "AdditionalParameter(SignificanceLevel, 0.05)\n"
     ]
    }
   ],
   "source": [
    "completion = openai_generate(messages, temperature=1.0)\n",
    "print(completion.choices[0].message.content)"
   ]
  },
  {
   "cell_type": "code",
   "execution_count": 38,
   "id": "1946617b71e6a54",
   "metadata": {
    "ExecuteTime": {
     "end_time": "2024-07-10T14:03:49.008046Z",
     "start_time": "2024-07-10T14:03:49.001327Z"
    },
    "collapsed": false
   },
   "outputs": [
    {
     "name": "stdout",
     "output_type": "stream",
     "text": [
      "SoftwareUsed(AffymetrixPowerTools)\n",
      "SoftwareVersion(AffymetrixPowerTools, 1.12.0)\n",
      "MethodApplied(RobustMultiArrayAverageAlgorithm)\n",
      "MethodApplied(QuantileNormalization)\n",
      "DifferentialExpressionAnalysis(DescriptiveStatisticsFoldChange)\n",
      "DifferentialExpressionAnalysis(StudentsTTest)\n",
      "AdditionalParameter(FoldChangeCutOff, 1.5)\n",
      "AdditionalParameter(SignificanceLevel, 0.05)\n"
     ]
    }
   ],
   "source": [
    "print(completion.choices[0].message.content)"
   ]
  },
  {
   "cell_type": "code",
   "execution_count": 39,
   "id": "e7e900e6f1a87229",
   "metadata": {
    "ExecuteTime": {
     "end_time": "2024-07-10T14:03:49.013934Z",
     "start_time": "2024-07-10T14:03:49.008390Z"
    },
    "collapsed": false
   },
   "outputs": [],
   "source": [
    "example_extraction_message = 'Cardiac ventricle total RNA from 10 young (4-6 month) and 10 old (25-28 month) mice was prepared and hybridized to Affymetrix™GeneChip® MOE430 2.0 arrays. Total RNA was prepared from frozen tissues using the Qiagen RNeasy kit following homogenization in Trizol (Invitrogen). Genomic DNA was prepared using the Qiagen Dneasy kit.'"
   ]
  },
  {
   "cell_type": "code",
   "execution_count": 40,
   "id": "8e08e45fa0421265",
   "metadata": {
    "ExecuteTime": {
     "end_time": "2024-07-10T14:03:49.042553Z",
     "start_time": "2024-07-10T14:03:49.014613Z"
    },
    "collapsed": false
   },
   "outputs": [],
   "source": [
    "from prompts.extraction_protocol import extraction_protocol_constitution"
   ]
  },
  {
   "cell_type": "code",
   "execution_count": 41,
   "id": "8f5d041711487c9d",
   "metadata": {
    "ExecuteTime": {
     "end_time": "2024-07-10T14:03:49.043670Z",
     "start_time": "2024-07-10T14:03:49.019459Z"
    },
    "collapsed": false
   },
   "outputs": [],
   "source": [
    "messages =[\n",
    "    {'role':'system', 'content':extraction_protocol_constitution},\n",
    "    {'role':'user', 'content':example_extraction_message}\n",
    "]"
   ]
  },
  {
   "cell_type": "code",
   "execution_count": 42,
   "id": "1c0515c2b2a19627",
   "metadata": {
    "ExecuteTime": {
     "end_time": "2024-07-10T14:03:57.182913Z",
     "start_time": "2024-07-10T14:03:49.022970Z"
    },
    "collapsed": false
   },
   "outputs": [
    {
     "name": "stdout",
     "output_type": "stream",
     "text": [
      "SampleType(CardiacVentricleTotalRNA)\n",
      "SourceInformation(Mice, CardiacVentricle)\n",
      "KitUsed(RNeasy)\n",
      "Manufacturer(Qiagen, RNeasy)\n",
      "ReagentUsed(Trizol)\n",
      "Manufacturer(Invitrogen, Trizol)\n",
      "KitUsed(DNeasy)\n",
      "Manufacturer(Qiagen, DNeasy)\n",
      "ExtractionMethod(Homogenization)\n",
      "DeviceUsed(AffymetrixGeneChipMOE4302.0array)\n",
      "Manufacturer(Affymetrix, GeneChipMOE4302.0array)\n"
     ]
    }
   ],
   "source": [
    "completion = openai_generate(messages, temperature=1.0)\n",
    "print(completion.choices[0].message.content)"
   ]
  },
  {
   "cell_type": "code",
   "execution_count": 43,
   "id": "fe3ab322ce8674db",
   "metadata": {
    "ExecuteTime": {
     "end_time": "2024-07-10T14:03:57.191790Z",
     "start_time": "2024-07-10T14:03:57.187268Z"
    },
    "collapsed": false
   },
   "outputs": [],
   "source": [
    "def extract_metadata(gse, gsm):\n",
    "    # GSE fields\n",
    "    gse_fields = ['summary', 'overall_design', 'type']\n",
    "    \n",
    "    # GSM fields\n",
    "    gsm_fields= [\n",
    "        'source_name_ch1', 'organism_ch1', 'characteristics_ch1',\n",
    "        'treatment_protocol_ch1', 'molecule_ch1', 'extract_protocol_ch1',\n",
    "        'label_ch1', 'label_protocol_ch1', 'hyb_protocol_ch1', \n",
    "        'scan_protocol', 'data_processing'\n",
    "    ]\n",
    "    \n",
    "    metadata_str = []\n",
    "    \n",
    "    # Fetch and print GSE metadata\n",
    "    for field in gse_fields:\n",
    "        value = gse.metadata.get(field, ['N/A'])[0]  # fetch metadata if available, else 'N/A'\n",
    "        metadata_str.append(f\"GSE {field.replace('_', ' ').title()}: {value}\")  # add formatted string\n",
    "    \n",
    "    # Fetch and print GSM metadata\n",
    "    for field in gsm_fields:\n",
    "        value = gsm.metadata.get(field, ['N/A'])[0]  # fetch metadata if available, else 'N/A'\n",
    "        metadata_str.append(f\"GSM {field.replace('_', ' ').title()}: {value}\")  # add formatted string\n",
    "\n",
    "    return \"\\n\".join(metadata_str)"
   ]
  },
  {
   "cell_type": "code",
   "execution_count": 44,
   "id": "8c9c4b3120e3766f",
   "metadata": {
    "ExecuteTime": {
     "end_time": "2024-07-10T14:03:57.253162Z",
     "start_time": "2024-07-10T14:03:57.210901Z"
    },
    "collapsed": false
   },
   "outputs": [
    {
     "name": "stdout",
     "output_type": "stream",
     "text": [
      "'GDS' object has no attribute 'gsms'\n",
      "'GDS' object has no attribute 'gsms'\n",
      "'GDS' object has no attribute 'gsms'\n",
      "'GDS' object has no attribute 'gsms'\n",
      "'GDS' object has no attribute 'gsms'\n",
      "'GDS' object has no attribute 'gsms'\n",
      "'GDS' object has no attribute 'gsms'\n",
      "'GDS' object has no attribute 'gsms'\n",
      "'GDS' object has no attribute 'gsms'\n",
      "'GDS' object has no attribute 'gsms'\n",
      "'GDS' object has no attribute 'gsms'\n",
      "'GDS' object has no attribute 'gsms'\n",
      "'GDS' object has no attribute 'gsms'\n",
      "'GDS' object has no attribute 'gsms'\n",
      "'GDS' object has no attribute 'gsms'\n",
      "'GDS' object has no attribute 'gsms'\n",
      "'GDS' object has no attribute 'gsms'\n",
      "'GDS' object has no attribute 'gsms'\n",
      "'GDS' object has no attribute 'gsms'\n",
      "'GDS' object has no attribute 'gsms'\n",
      "'GDS' object has no attribute 'gsms'\n",
      "'GDS' object has no attribute 'gsms'\n",
      "'GDS' object has no attribute 'gsms'\n",
      "'GDS' object has no attribute 'gsms'\n",
      "'GDS' object has no attribute 'gsms'\n",
      "'GDS' object has no attribute 'gsms'\n",
      "'GDS' object has no attribute 'gsms'\n",
      "'GDS' object has no attribute 'gsms'\n",
      "'GDS' object has no attribute 'gsms'\n",
      "'GDS' object has no attribute 'gsms'\n",
      "'GDS' object has no attribute 'gsms'\n",
      "'GDS' object has no attribute 'gsms'\n",
      "'GDS' object has no attribute 'gsms'\n",
      "'GDS' object has no attribute 'gsms'\n",
      "'GDS' object has no attribute 'gsms'\n",
      "'GDS' object has no attribute 'gsms'\n",
      "'GDS' object has no attribute 'gsms'\n",
      "'GDS' object has no attribute 'gsms'\n",
      "'GDS' object has no attribute 'gsms'\n",
      "'GDS' object has no attribute 'gsms'\n",
      "'GDS' object has no attribute 'gsms'\n",
      "'GDS' object has no attribute 'gsms'\n",
      "'GDS' object has no attribute 'gsms'\n",
      "'GDS' object has no attribute 'gsms'\n",
      "'GDS' object has no attribute 'gsms'\n",
      "'GDS' object has no attribute 'gsms'\n",
      "'GDS' object has no attribute 'gsms'\n",
      "'GDS' object has no attribute 'gsms'\n",
      "'GDS' object has no attribute 'gsms'\n",
      "'GDS' object has no attribute 'gsms'\n",
      "'GDS' object has no attribute 'gsms'\n",
      "'GDS' object has no attribute 'gsms'\n",
      "'GDS' object has no attribute 'gsms'\n",
      "'GDS' object has no attribute 'gsms'\n",
      "'GDS' object has no attribute 'gsms'\n"
     ]
    }
   ],
   "source": [
    "field_values = set()\n",
    "for gse in gse_list:\n",
    "    try:\n",
    "        for gsm in gse.gsms:\n",
    "            gsm_sample = gse.gsms[gsm]\n",
    "            field_values.add(extract_metadata(gse, gsm_sample))\n",
    "    except Exception as e:\n",
    "        print(e)"
   ]
  },
  {
   "cell_type": "code",
   "execution_count": 45,
   "id": "a4135f4864f0864a",
   "metadata": {
    "ExecuteTime": {
     "end_time": "2024-07-10T14:03:57.255669Z",
     "start_time": "2024-07-10T14:03:57.250361Z"
    },
    "collapsed": false
   },
   "outputs": [
    {
     "data": {
      "text/plain": [
       "424"
      ]
     },
     "execution_count": 45,
     "metadata": {},
     "output_type": "execute_result"
    }
   ],
   "source": [
    "len(field_values)"
   ]
  },
  {
   "cell_type": "code",
   "execution_count": 46,
   "id": "4eab11bb2f5014ff",
   "metadata": {
    "ExecuteTime": {
     "end_time": "2024-07-10T14:03:57.268074Z",
     "start_time": "2024-07-10T14:03:57.253Z"
    },
    "collapsed": false
   },
   "outputs": [],
   "source": [
    "import tiktoken\n",
    "def num_tokens_from_string(string: str, model_name: str) -> int:\n",
    "    \"\"\"Returns the number of tokens in a text string.\"\"\"\n",
    "    encoding = tiktoken.encoding_for_model(model_name)\n",
    "    num_tokens = len(encoding.encode(string))\n",
    "    return num_tokens\n",
    "from random import sample"
   ]
  },
  {
   "cell_type": "code",
   "execution_count": 47,
   "id": "ef20c26fc255a605",
   "metadata": {
    "ExecuteTime": {
     "end_time": "2024-07-10T14:03:57.306386Z",
     "start_time": "2024-07-10T14:03:57.266571Z"
    },
    "collapsed": false
   },
   "outputs": [],
   "source": [
    "from Levenshtein import distance as lev_dist"
   ]
  },
  {
   "cell_type": "code",
   "execution_count": 48,
   "id": "1c4f26c4ef14179d",
   "metadata": {
    "ExecuteTime": {
     "end_time": "2024-07-10T14:03:57.639677Z",
     "start_time": "2024-07-10T14:03:57.292720Z"
    },
    "collapsed": false
   },
   "outputs": [
    {
     "data": {
      "text/plain": [
       "239869"
      ]
     },
     "execution_count": 48,
     "metadata": {},
     "output_type": "execute_result"
    }
   ],
   "source": [
    "num_tokens_from_string(str(field_values), 'gpt-4o')"
   ]
  },
  {
   "cell_type": "code",
   "execution_count": 62,
   "id": "a02fb26823958342",
   "metadata": {
    "ExecuteTime": {
     "end_time": "2024-07-10T14:09:42.236170Z",
     "start_time": "2024-07-10T14:09:42.195201Z"
    },
    "collapsed": false
   },
   "outputs": [
    {
     "name": "stdout",
     "output_type": "stream",
     "text": [
      "Experimental Design and Sample Collection;Data Processing and Analysis Methods;Quality Control and Filtering;Sequencing and Array Platform Details;Technical Replicates and Biological Replicates\n"
     ]
    }
   ],
   "source": [
    "print(';'.join(irrelevant_aspects))"
   ]
  },
  {
   "cell_type": "code",
   "execution_count": 50,
   "id": "36c122a6d941e6fb",
   "metadata": {
    "ExecuteTime": {
     "end_time": "2024-07-10T14:03:57.648700Z",
     "start_time": "2024-07-10T14:03:57.640687Z"
    },
    "collapsed": false
   },
   "outputs": [],
   "source": [
    "predicate_instruction = f\"\"\"Introduction and Goal:\n",
    "\n",
    "The primary goal of this task is to systematically extract and standardize predicates from the metadata of GSE (Gene Expression Omnibus Series) and GSM (Gene Expression Omnibus Samples) descriptions. These predicates will be used to automate the metadata standardization process across various omics datasets, facilitating efficient and consistent data analysis for meta-studies. By defining clear predicates based on experimental design and sample collection, we aim to create a structured queryable framework that enhances data retrieval and analysis capabilities in biological research databases.\n",
    "\n",
    "Task Description:\n",
    "\n",
    "Generate a comprehensive list of predicates focused on {aspect} from GSE and GSM descriptions. Ensure each predicate is standardized, uses controlled vocabulary, and adheres strictly to the concepts outlined in the provided guidelines. This structured extraction will enable automated systems to better understand and categorize data entries, significantly improving the accuracy and speed of meta-analyses.\n",
    "\n",
    "Guidelines:\n",
    "Focus on Key Concepts from the following list:\n",
    "{aspect_details}\n",
    "\n",
    "Ensure that the list of predicates is comprehensive and covers all concepts from the list above. \n",
    "\n",
    "\n",
    "Define Predicates:\n",
    "\n",
    "For each identified relationship or attribute, define a predicate. Ensure the predicate name is descriptive of the relationship or attribute it represents.\n",
    "Create separate predicates for distinctive properties not entailed with each other (for example, strain and age).\n",
    "Avoid using free-text entries in the predicates.\n",
    "Exclude predicates that are not related to the specified key concepts. Avoid including predicates related to the following aspects {';'.join(irrelevant_aspects)}.\n",
    "Only include predicates relevant to {aspect}. \n",
    "Do not generate predicates for generic attributes such as age or sex unless explicitly related to the sample characteristics described in the guidelines.\n",
    "Do not generate predicates for quantitative measures such as temporal data, dosage, concentration, volume, mass, temperature, speed, time duration, and frequency. These formats are already standardized and provided. Focus on other attributes and relationships related to the specified key concepts.\n",
    "\n",
    "\n",
    "\n",
    "Standardize Quantitative Data:\n",
    "\n",
    "Ensure that quantitative data is standardized in a consistent format, such as TimeFrame(value, unit).\n",
    "Use the following formats for other quantitative measures:\n",
    "List of Standardized Quantitative Measures\n",
    "Temporal Data\n",
    "\n",
    "Format: TimeFrame(value, unit)\n",
    "Example: TimeFrame(32, Years)\n",
    "Range Format: TimeFrame(Range(minValue, maxValue), unit)\n",
    "Range Example: TimeFrame(Range(32, 39), Years)\n",
    "Dosage\n",
    "\n",
    "Format: Dosage(value, unit)\n",
    "Example: Dosage(1.0, gPerKg)\n",
    "Range Format: Dosage(Range(minValue, maxValue), unit)\n",
    "Range Example: Dosage(Range(0.5, 1.0), gPerKg)\n",
    "Concentration\n",
    "\n",
    "Format: Concentration(value, unit)\n",
    "Example: Concentration(0.1, Molar)\n",
    "Range Format: Concentration(Range(minValue, maxValue), unit)\n",
    "Range Example: Concentration(Range(0.05, 0.1), Molar)\n",
    "Volume\n",
    "\n",
    "Format: Volume(value, unit)\n",
    "Example: Volume(10, mL)\n",
    "Range Format: Volume(Range(minValue, maxValue), unit)\n",
    "Range Example: Volume(Range(5, 10), mL)\n",
    "Mass\n",
    "\n",
    "Format: Mass(value, unit)\n",
    "Example: Mass(2.5, mg)\n",
    "Range Format: Mass(Range(minValue, maxValue), unit)\n",
    "Range Example: Mass(Range(1.0, 2.5), mg)\n",
    "Temperature\n",
    "\n",
    "Format: Temperature(value, unit)\n",
    "Example: Temperature(37, Celsius)\n",
    "Range Format: Temperature(Range(minValue, maxValue), unit)\n",
    "Range Example: Temperature(Range(35, 37), Celsius)\n",
    "Speed\n",
    "\n",
    "Format: Speed(value, unit)\n",
    "Example: Speed(100, rpm)\n",
    "Range Format: Speed(Range(minValue, maxValue), unit)\n",
    "Range Example: Speed(Range(80, 100), rpm)\n",
    "Time Duration\n",
    "\n",
    "Format: Duration(value, unit)\n",
    "Example: Duration(30, Minutes)\n",
    "Range Format: Duration(Range(minValue, maxValue), unit)\n",
    "Range Example: Duration(Range(20, 30), Minutes)\n",
    "Frequency\n",
    "\n",
    "Format: Frequency(value, unit)\n",
    "Example: Frequency(3, perDay)\n",
    "Range Format: Frequency(Range(minValue, maxValue), unit)\n",
    "Range Example: Frequency(Range(2, 3), perDay)\n",
    "\n",
    "Standardize Software versions:\n",
    "Ensure that versions of the software related to {aspect} are standardized in a consistent format.\n",
    "Use the following predicate:\n",
    "Format: SoftwareVersion(softwareTitle, versionNumber)\n",
    "Example: SoftwareVersion(AffymetrixPowerTools, 1.12.0)\n",
    "\n",
    "Format the Output:\n",
    "\n",
    "Generate a list of predicates.\n",
    "Provide a brief description of what each predicate represents.\n",
    "Include an example for each predicate.\n",
    "Use camelcase for all predicate names and correct the typos related to casing (e.g. TRIZol -> Trizol).\n",
    "Refrain from using sample as an argument in predicates.\n",
    "Output nothing but a list of predicates according to the provided format. Start right away with the definition of the first predicate.\n",
    "\n",
    "Output format example:\n",
    "\n",
    "Definition: somePredicate(argument)\n",
    "Description: some predicate given for example. Actual predicates will have a meaningful description here.\n",
    "Example: somePredicate(ExampleArgument)\n",
    "\"\"\""
   ]
  },
  {
   "cell_type": "code",
   "execution_count": 51,
   "id": "d55a683db2fdc16e",
   "metadata": {
    "ExecuteTime": {
     "end_time": "2024-07-10T14:03:57.655740Z",
     "start_time": "2024-07-10T14:03:57.642345Z"
    },
    "collapsed": false
   },
   "outputs": [
    {
     "name": "stdout",
     "output_type": "stream",
     "text": [
      "Introduction and Goal:\n",
      "\n",
      "The primary goal of this task is to systematically extract and standardize predicates from the metadata of GSE (Gene Expression Omnibus Series) and GSM (Gene Expression Omnibus Samples) descriptions. These predicates will be used to automate the metadata standardization process across various omics datasets, facilitating efficient and consistent data analysis for meta-studies. By defining clear predicates based on experimental design and sample collection, we aim to create a structured queryable framework that enhances data retrieval and analysis capabilities in biological research databases.\n",
      "\n",
      "Task Description:\n",
      "\n",
      "Generate a comprehensive list of predicates focused on Control and Reference Samples from GSE and GSM descriptions. Ensure each predicate is standardized, uses controlled vocabulary, and adheres strictly to the concepts outlined in the provided guidelines. This structured extraction will enable automated systems to better understand and categorize data entries, significantly improving the accuracy and speed of meta-analyses.\n",
      "\n",
      "Guidelines:\n",
      "Focus on Key Concepts from the following list:\n",
      "- Control Samples: Ensure detailed metadata for control samples, describing their role and how they were handled compared to experimental samples.\n",
      "   - Reference Genomes: Standardize information on reference genomes or reference datasets used for alignment and comparison.\n",
      "\n",
      "Ensure that the list of predicates is comprehensive and covers all concepts from the list above. \n",
      "\n",
      "\n",
      "Define Predicates:\n",
      "\n",
      "For each identified relationship or attribute, define a predicate. Ensure the predicate name is descriptive of the relationship or attribute it represents.\n",
      "Create separate predicates for distinctive properties not entailed with each other (for example, strain and age).\n",
      "Avoid using free-text entries in the predicates.\n",
      "Exclude predicates that are not related to the specified key concepts. Avoid including predicates related to the following aspects Experimental Design and Sample Collection;Data Processing and Analysis Methods;Quality Control and Filtering;Sequencing and Array Platform Details;Technical Replicates and Biological Replicates.\n",
      "Only include predicates relevant to Control and Reference Samples. \n",
      "Do not generate predicates for generic attributes such as age or sex unless explicitly related to the sample characteristics described in the guidelines.\n",
      "Do not generate predicates for quantitative measures such as temporal data, dosage, concentration, volume, mass, temperature, speed, time duration, and frequency. These formats are already standardized and provided. Focus on other attributes and relationships related to the specified key concepts.\n",
      "\n",
      "\n",
      "\n",
      "Standardize Quantitative Data:\n",
      "\n",
      "Ensure that quantitative data is standardized in a consistent format, such as TimeFrame(value, unit).\n",
      "Use the following formats for other quantitative measures:\n",
      "List of Standardized Quantitative Measures\n",
      "Temporal Data\n",
      "\n",
      "Format: TimeFrame(value, unit)\n",
      "Example: TimeFrame(32, Years)\n",
      "Range Format: TimeFrame(Range(minValue, maxValue), unit)\n",
      "Range Example: TimeFrame(Range(32, 39), Years)\n",
      "Dosage\n",
      "\n",
      "Format: Dosage(value, unit)\n",
      "Example: Dosage(1.0, gPerKg)\n",
      "Range Format: Dosage(Range(minValue, maxValue), unit)\n",
      "Range Example: Dosage(Range(0.5, 1.0), gPerKg)\n",
      "Concentration\n",
      "\n",
      "Format: Concentration(value, unit)\n",
      "Example: Concentration(0.1, Molar)\n",
      "Range Format: Concentration(Range(minValue, maxValue), unit)\n",
      "Range Example: Concentration(Range(0.05, 0.1), Molar)\n",
      "Volume\n",
      "\n",
      "Format: Volume(value, unit)\n",
      "Example: Volume(10, mL)\n",
      "Range Format: Volume(Range(minValue, maxValue), unit)\n",
      "Range Example: Volume(Range(5, 10), mL)\n",
      "Mass\n",
      "\n",
      "Format: Mass(value, unit)\n",
      "Example: Mass(2.5, mg)\n",
      "Range Format: Mass(Range(minValue, maxValue), unit)\n",
      "Range Example: Mass(Range(1.0, 2.5), mg)\n",
      "Temperature\n",
      "\n",
      "Format: Temperature(value, unit)\n",
      "Example: Temperature(37, Celsius)\n",
      "Range Format: Temperature(Range(minValue, maxValue), unit)\n",
      "Range Example: Temperature(Range(35, 37), Celsius)\n",
      "Speed\n",
      "\n",
      "Format: Speed(value, unit)\n",
      "Example: Speed(100, rpm)\n",
      "Range Format: Speed(Range(minValue, maxValue), unit)\n",
      "Range Example: Speed(Range(80, 100), rpm)\n",
      "Time Duration\n",
      "\n",
      "Format: Duration(value, unit)\n",
      "Example: Duration(30, Minutes)\n",
      "Range Format: Duration(Range(minValue, maxValue), unit)\n",
      "Range Example: Duration(Range(20, 30), Minutes)\n",
      "Frequency\n",
      "\n",
      "Format: Frequency(value, unit)\n",
      "Example: Frequency(3, perDay)\n",
      "Range Format: Frequency(Range(minValue, maxValue), unit)\n",
      "Range Example: Frequency(Range(2, 3), perDay)\n",
      "\n",
      "Standardize Software versions:\n",
      "Ensure that versions of the software related to Control and Reference Samples are standardized in a consistent format.\n",
      "Use the following predicate:\n",
      "Format: SoftwareVersion(softwareTitle, versionNumber)\n",
      "Example: SoftwareVersion(AffymetrixPowerTools, 1.12.0)\n",
      "\n",
      "Format the Output:\n",
      "\n",
      "Generate a list of predicates.\n",
      "Provide a brief description of what each predicate represents.\n",
      "Include an example for each predicate.\n",
      "Use camelcase for all predicate names and correct the typos related to casing (e.g. TRIZol -> Trizol).\n",
      "Refrain from using sample as an argument in predicates.\n",
      "Output nothing but a list of predicates according to the provided format. Start right away with the definition of the first predicate.\n",
      "\n",
      "Output format example:\n",
      "\n",
      "Definition: somePredicate(argument)\n",
      "Description: some predicate given for example. Actual predicates will have a meaningful description here.\n",
      "Example: somePredicate(ExampleArgument)\n"
     ]
    }
   ],
   "source": [
    "print(predicate_instruction)"
   ]
  },
  {
   "cell_type": "code",
   "execution_count": 52,
   "id": "2e59fee1486bc7a9",
   "metadata": {
    "ExecuteTime": {
     "end_time": "2024-07-10T14:03:57.658412Z",
     "start_time": "2024-07-10T14:03:57.644350Z"
    },
    "collapsed": false
   },
   "outputs": [
    {
     "data": {
      "text/plain": [
       "1124"
      ]
     },
     "execution_count": 52,
     "metadata": {},
     "output_type": "execute_result"
    }
   ],
   "source": [
    "num_tokens_from_string(predicate_instruction, 'gpt-4o')"
   ]
  },
  {
   "cell_type": "code",
   "execution_count": 53,
   "id": "491f5283e77d6d9f",
   "metadata": {
    "ExecuteTime": {
     "end_time": "2024-07-10T14:03:57.662820Z",
     "start_time": "2024-07-10T14:03:57.646860Z"
    },
    "collapsed": false
   },
   "outputs": [],
   "source": [
    "SAMPLING_SIZE=150\n",
    "N_TRIALS = 10"
   ]
  },
  {
   "cell_type": "code",
   "execution_count": 54,
   "id": "261a1f8b17eaf2bb",
   "metadata": {
    "ExecuteTime": {
     "end_time": "2024-07-10T14:09:12.455330Z",
     "start_time": "2024-07-10T14:03:57.649259Z"
    },
    "collapsed": false
   },
   "outputs": [],
   "source": [
    "predicate_list = []\n",
    "for __ in range(N_TRIALS):\n",
    "    input_samples_combined = \"List of examples to extract predicates from:\\n\"+\"\\n\\n\\n\".join(sample((list(field_values)),SAMPLING_SIZE))\n",
    "    resp = openai_generate([\n",
    "        {\"role\":'system', 'content':predicate_instruction},\n",
    "        {'role':'user', 'content':input_samples_combined}\n",
    "    ], model='gpt-4o')\n",
    "    predicate_list.append(resp.choices[0].message.content)"
   ]
  },
  {
   "cell_type": "code",
   "execution_count": 58,
   "id": "a0bcdf152f0a1ba5",
   "metadata": {
    "ExecuteTime": {
     "end_time": "2024-07-10T14:09:12.523637Z",
     "start_time": "2024-07-10T14:09:12.480594Z"
    },
    "collapsed": false
   },
   "outputs": [],
   "source": [
    "refinement_prompt = f\"\"\"You are given multiple lists of predicates extracted from various sets of GSE (Gene Expression Omnibus Series) and GSM (Gene Expression Omnibus Samples) metadata descriptions. These predicates are related to {aspect}. Your task involves several key steps to refine and consolidate these predicates into a single, standardized list:\n",
    "\n",
    "Merge and Deduplicate: Combine all the provided lists into one unified list. Identify and remove any duplicate predicates, ensuring that synonyms and nearly identical concepts are consolidated into a single entry. Aim for a clean, non-redundant list that captures the essence of each predicate without repetition.\n",
    "\n",
    "Standardize Format and Terminology: Review the merged list for consistency in naming conventions, formatting, and descriptions. Adjust the predicates to ensure they align with the standardized formats discussed in the guidelines. This includes using controlled vocabulary and adhering to a consistent structural format. Use adjustment examples below.\n",
    "\n",
    "Adjustment examples:\n",
    "Before: somePredicate(\"free text argument\")\n",
    "After: somePredicate(VariableLikeArgument)\n",
    "\n",
    "Before: somePredicate(Argument With Spaces)\n",
    "After: somePredicate(ArgumentWithoutSpaces)\n",
    "\n",
    "Before: somePredicate(argument_with_underscore)\n",
    "After: somePredicate(CamelCaseArgument)\n",
    "\n",
    "Validate and Refine: Ensure that each predicate in the list strictly pertains to the key concepts of {aspect}. Remove any predicates that do not conform to these guidelines or that address unrelated topics such as the following: {'; '.join(irrelevant_aspects)}. Focus on refining predicates to be as specific and relevant as possible.\n",
    "\n",
    "Format the Final Output: Organize the final list of predicates into a structured format, with definition of each predicate followed by its brief, clear description and an example of usage. Output nothing but a list of predicates in the format specified below. Start with definition of the first predicate right away.\n",
    "\n",
    "Output format example:\n",
    "\n",
    "Definition: somePredicate(argument)\n",
    "Description: some predicate given for example. Actual predicates will have a meaningful description here.\n",
    "Example: somePredicate(ExampleArgument)\n",
    "\n",
    "Definition: anotherPredicate(argument)\n",
    "Description: another predicate given for example. Actual predicates will have a meaningful description here.\n",
    "Example: anotherPredicate(AnotherArgument)\n",
    "\n",
    "\"\"\""
   ]
  },
  {
   "cell_type": "code",
   "execution_count": 59,
   "id": "b19a3441198043a9",
   "metadata": {
    "ExecuteTime": {
     "end_time": "2024-07-10T14:09:42.169692Z",
     "start_time": "2024-07-10T14:09:12.484921Z"
    },
    "collapsed": false
   },
   "outputs": [],
   "source": [
    "combined_predicates = \"Draft predicate lists:\\n\"'\\n\\n###\\n'.join(predicate_list)\n",
    "resp = openai_generate([\n",
    "        {\"role\":'system', 'content':refinement_prompt},\n",
    "        {'role':'user', 'content':combined_predicates}\n",
    "    ], model='gpt-4')"
   ]
  },
  {
   "cell_type": "code",
   "execution_count": 60,
   "id": "6469216c683d8bfb",
   "metadata": {
    "ExecuteTime": {
     "end_time": "2024-07-10T14:09:42.181765Z",
     "start_time": "2024-07-10T14:09:42.170939Z"
    },
    "collapsed": false
   },
   "outputs": [
    {
     "name": "stdout",
     "output_type": "stream",
     "text": [
      "Definition: isControlSample(controlStatus)\n",
      "Description: Indicates whether the described sample is a control sample.\n",
      "Example: isControlSample(True)\n",
      "\n",
      "Definition: controlSampleType(type)\n",
      "Description: Describes the type of control sample used in the experiment.\n",
      "Example: controlSampleType(WildType)\n",
      "\n",
      "Definition: controlReferenceGenome(genomeVersion)\n",
      "Description: Specifies the reference genome used for comparison in the experiment.\n",
      "Example: controlReferenceGenome(HomoSapiens_GRCh37)\n",
      "\n",
      "Definition: controlTissueOrigin(tissueType)\n",
      "Description: Describes the tissue from which the control sample was derived.\n",
      "Example: controlTissueOrigin(Liver)\n",
      "\n",
      "Definition: controlOrganism(organismName)\n",
      "Description: Specifies the organism from which the control sample was derived.\n",
      "Example: controlOrganism(MusMusculus)\n",
      "\n",
      "Definition: controlGeneticModificationStatus(modificationStatus)\n",
      "Description: Indicates whether the control sample is genetically modified.\n",
      "Example: controlGeneticModificationStatus(Non-modified)\n",
      "\n",
      "Definition: controlSampleSpecies(speciesName)\n",
      "Description: Specifies the species of the control sample used in the experiment.\n",
      "Example: controlSampleSpecies(HomoSapiens)\n",
      "\n",
      "Definition: controlIsolationKit(kitName)\n",
      "Description: Specifies the kit used for isolating nucleic acids from the control sample.\n",
      "Example: controlIsolationKit(QiagenRNeasyMiniKit)\n",
      "\n",
      "Definition: controlExtractionProtocol(protocolName)\n",
      "Description: Describes the protocol used for extracting the nucleic acids from the control sample.\n",
      "Example: controlExtractionProtocol(TrizolExtraction)\n",
      "\n",
      "Definition: controlTreatmentProtocol(protocolName)\n",
      "Description: Provides details of the treatment applied to the control sample.\n",
      "Example: controlTreatmentProtocol(None)\n",
      "\n",
      "Definition: controlMoleculeType(moleculeName)\n",
      "Description: Specifies the type of molecule extracted from the control sample.\n",
      "Example: controlMoleculeType(TotalRNA)\n",
      "\n",
      "Definition: controlReferenceDatabase(databaseName)\n",
      "Description: Indicates the database used for comparing the control sample data.\n",
      "Example: controlReferenceDatabase(ENSEMBL)\n",
      "\n",
      "Definition: controlQualityControlMetric(metricName)\n",
      "Description: Specifies the quality control metric used to assess the control sample.\n",
      "Example: controlQualityControlMetric(RIN)\n",
      "\n",
      "Definition: controlSoftwareVersion(softwareName, version)\n",
      "Description: Specifies the software and version used in processing of control sample data.\n",
      "Example: controlSoftwareVersion(R, 4.0.0)\n",
      "\n",
      "Definition: controlComparisonGroup(groupName)\n",
      "Description: Identifies the comparison group related to the control sample.\n",
      "Example: controlComparisonGroup(TreatedVsNon-treated)\n"
     ]
    }
   ],
   "source": [
    "resp.choices[0].message.content"
   ]
  },
  {
   "cell_type": "code",
   "execution_count": 61,
   "id": "bb771330ff5cde92",
   "metadata": {
    "ExecuteTime": {
     "end_time": "2024-07-10T14:09:42.199153Z",
     "start_time": "2024-07-10T14:09:42.178616Z"
    },
    "collapsed": false
   },
   "outputs": [
    {
     "data": {
      "text/plain": [
       "ChatCompletion(id='chatcmpl-9jSILAlGQiDGWtpnDJJDfpxFeGIEE', choices=[Choice(finish_reason='stop', index=0, logprobs=None, message=ChatCompletionMessage(content='Definition: isControlSample(controlStatus)\\nDescription: Indicates whether the described sample is a control sample.\\nExample: isControlSample(True)\\n\\nDefinition: controlSampleType(type)\\nDescription: Describes the type of control sample used in the experiment.\\nExample: controlSampleType(WildType)\\n\\nDefinition: controlReferenceGenome(genomeVersion)\\nDescription: Specifies the reference genome used for comparison in the experiment.\\nExample: controlReferenceGenome(HomoSapiens_GRCh37)\\n\\nDefinition: controlTissueOrigin(tissueType)\\nDescription: Describes the tissue from which the control sample was derived.\\nExample: controlTissueOrigin(Liver)\\n\\nDefinition: controlOrganism(organismName)\\nDescription: Specifies the organism from which the control sample was derived.\\nExample: controlOrganism(MusMusculus)\\n\\nDefinition: controlGeneticModificationStatus(modificationStatus)\\nDescription: Indicates whether the control sample is genetically modified.\\nExample: controlGeneticModificationStatus(Non-modified)\\n\\nDefinition: controlSampleSpecies(speciesName)\\nDescription: Specifies the species of the control sample used in the experiment.\\nExample: controlSampleSpecies(HomoSapiens)\\n\\nDefinition: controlIsolationKit(kitName)\\nDescription: Specifies the kit used for isolating nucleic acids from the control sample.\\nExample: controlIsolationKit(QiagenRNeasyMiniKit)\\n\\nDefinition: controlExtractionProtocol(protocolName)\\nDescription: Describes the protocol used for extracting the nucleic acids from the control sample.\\nExample: controlExtractionProtocol(TrizolExtraction)\\n\\nDefinition: controlTreatmentProtocol(protocolName)\\nDescription: Provides details of the treatment applied to the control sample.\\nExample: controlTreatmentProtocol(None)\\n\\nDefinition: controlMoleculeType(moleculeName)\\nDescription: Specifies the type of molecule extracted from the control sample.\\nExample: controlMoleculeType(TotalRNA)\\n\\nDefinition: controlReferenceDatabase(databaseName)\\nDescription: Indicates the database used for comparing the control sample data.\\nExample: controlReferenceDatabase(ENSEMBL)\\n\\nDefinition: controlQualityControlMetric(metricName)\\nDescription: Specifies the quality control metric used to assess the control sample.\\nExample: controlQualityControlMetric(RIN)\\n\\nDefinition: controlSoftwareVersion(softwareName, version)\\nDescription: Specifies the software and version used in processing of control sample data.\\nExample: controlSoftwareVersion(R, 4.0.0)\\n\\nDefinition: controlComparisonGroup(groupName)\\nDescription: Identifies the comparison group related to the control sample.\\nExample: controlComparisonGroup(TreatedVsNon-treated)', role='assistant', function_call=None, tool_calls=None))], created=1720620553, model='gpt-4-0613', object='chat.completion', service_tier=None, system_fingerprint=None, usage=CompletionUsage(completion_tokens=507, prompt_tokens=7005, total_tokens=7512))"
      ]
     },
     "execution_count": 61,
     "metadata": {},
     "output_type": "execute_result"
    }
   ],
   "source": [
    "resp"
   ]
  },
  {
   "cell_type": "code",
   "execution_count": 61,
   "id": "2fcffefef0e96c2",
   "metadata": {
    "ExecuteTime": {
     "end_time": "2024-07-10T14:09:42.201763Z",
     "start_time": "2024-07-10T14:09:42.183294Z"
    },
    "collapsed": false
   },
   "outputs": [],
   "source": []
  }
 ],
 "metadata": {
  "kernelspec": {
   "display_name": "Python 3",
   "language": "python",
   "name": "python3"
  },
  "language_info": {
   "codemirror_mode": {
    "name": "ipython",
    "version": 2
   },
   "file_extension": ".py",
   "mimetype": "text/x-python",
   "name": "python",
   "nbconvert_exporter": "python",
   "pygments_lexer": "ipython2",
   "version": "2.7.6"
  }
 },
 "nbformat": 4,
 "nbformat_minor": 5
}
